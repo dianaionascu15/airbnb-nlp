{
 "cells": [
  {
   "cell_type": "markdown",
   "metadata": {},
   "source": []
  },
  {
   "cell_type": "code",
   "execution_count": 1,
   "metadata": {},
   "outputs": [],
   "source": [
    "import pandas as pd \n",
    "import numpy as np\n",
    "\n",
    "import csv"
   ]
  },
  {
   "cell_type": "code",
   "execution_count": 2,
   "metadata": {},
   "outputs": [],
   "source": [
    "listingDf = pd.read_csv('./Data/listings.csv')\n",
    "reviewsDf = pd.read_csv('./Data/reviews.csv')"
   ]
  },
  {
   "cell_type": "code",
   "execution_count": 3,
   "metadata": {},
   "outputs": [
    {
     "data": {
      "text/html": [
       "<div>\n",
       "<style scoped>\n",
       "    .dataframe tbody tr th:only-of-type {\n",
       "        vertical-align: middle;\n",
       "    }\n",
       "\n",
       "    .dataframe tbody tr th {\n",
       "        vertical-align: top;\n",
       "    }\n",
       "\n",
       "    .dataframe thead th {\n",
       "        text-align: right;\n",
       "    }\n",
       "</style>\n",
       "<table border=\"1\" class=\"dataframe\">\n",
       "  <thead>\n",
       "    <tr style=\"text-align: right;\">\n",
       "      <th></th>\n",
       "      <th>id</th>\n",
       "      <th>listing_url</th>\n",
       "      <th>scrape_id</th>\n",
       "      <th>last_scraped</th>\n",
       "      <th>name</th>\n",
       "      <th>description</th>\n",
       "      <th>neighborhood_overview</th>\n",
       "      <th>picture_url</th>\n",
       "      <th>host_id</th>\n",
       "      <th>host_url</th>\n",
       "      <th>...</th>\n",
       "      <th>review_scores_communication</th>\n",
       "      <th>review_scores_location</th>\n",
       "      <th>review_scores_value</th>\n",
       "      <th>license</th>\n",
       "      <th>instant_bookable</th>\n",
       "      <th>calculated_host_listings_count</th>\n",
       "      <th>calculated_host_listings_count_entire_homes</th>\n",
       "      <th>calculated_host_listings_count_private_rooms</th>\n",
       "      <th>calculated_host_listings_count_shared_rooms</th>\n",
       "      <th>reviews_per_month</th>\n",
       "    </tr>\n",
       "  </thead>\n",
       "  <tbody>\n",
       "    <tr>\n",
       "      <th>0</th>\n",
       "      <td>27966</td>\n",
       "      <td>https://www.airbnb.com/rooms/27966</td>\n",
       "      <td>20211028170327</td>\n",
       "      <td>2021-10-29</td>\n",
       "      <td>Heraklion-Pinelopi Apartment</td>\n",
       "      <td>For an unforgettable stay!! Just 10 minutes wa...</td>\n",
       "      <td>Ammoudara is a very cute area with lots of bea...</td>\n",
       "      <td>https://a0.muscache.com/pictures/b8e0ecb1-c444...</td>\n",
       "      <td>120502</td>\n",
       "      <td>https://www.airbnb.com/users/show/120502</td>\n",
       "      <td>...</td>\n",
       "      <td>4.99</td>\n",
       "      <td>4.60</td>\n",
       "      <td>4.91</td>\n",
       "      <td>00000247117</td>\n",
       "      <td>t</td>\n",
       "      <td>2</td>\n",
       "      <td>2</td>\n",
       "      <td>0</td>\n",
       "      <td>0</td>\n",
       "      <td>1.35</td>\n",
       "    </tr>\n",
       "    <tr>\n",
       "      <th>1</th>\n",
       "      <td>28970</td>\n",
       "      <td>https://www.airbnb.com/rooms/28970</td>\n",
       "      <td>20211028170327</td>\n",
       "      <td>2021-10-28</td>\n",
       "      <td>artists' house in the old town</td>\n",
       "      <td>This is a fully renovated stone house from 191...</td>\n",
       "      <td>its calm with many old ladies that adooooore s...</td>\n",
       "      <td>https://a0.muscache.com/pictures/25900225/f18f...</td>\n",
       "      <td>124670</td>\n",
       "      <td>https://www.airbnb.com/users/show/124670</td>\n",
       "      <td>...</td>\n",
       "      <td>4.96</td>\n",
       "      <td>4.51</td>\n",
       "      <td>4.51</td>\n",
       "      <td>00000353067</td>\n",
       "      <td>f</td>\n",
       "      <td>2</td>\n",
       "      <td>2</td>\n",
       "      <td>0</td>\n",
       "      <td>0</td>\n",
       "      <td>0.42</td>\n",
       "    </tr>\n",
       "    <tr>\n",
       "      <th>2</th>\n",
       "      <td>29130</td>\n",
       "      <td>https://www.airbnb.com/rooms/29130</td>\n",
       "      <td>20211028170327</td>\n",
       "      <td>2021-10-29</td>\n",
       "      <td>Villa Kallergi - Athena, 640m²</td>\n",
       "      <td>Villa Athena Kallergi in the heart of the Cret...</td>\n",
       "      <td>The traditional village of Loutra was chosen t...</td>\n",
       "      <td>https://a0.muscache.com/pictures/7a38ebf6-9a7b...</td>\n",
       "      <td>125281</td>\n",
       "      <td>https://www.airbnb.com/users/show/125281</td>\n",
       "      <td>...</td>\n",
       "      <td>4.56</td>\n",
       "      <td>4.67</td>\n",
       "      <td>4.78</td>\n",
       "      <td>2512208</td>\n",
       "      <td>f</td>\n",
       "      <td>3</td>\n",
       "      <td>3</td>\n",
       "      <td>0</td>\n",
       "      <td>0</td>\n",
       "      <td>0.34</td>\n",
       "    </tr>\n",
       "    <tr>\n",
       "      <th>3</th>\n",
       "      <td>29849</td>\n",
       "      <td>https://www.airbnb.com/rooms/29849</td>\n",
       "      <td>20211028170327</td>\n",
       "      <td>2021-10-29</td>\n",
       "      <td>Villa Kallergi - Nefeli, 6 guests</td>\n",
       "      <td>Villa Nefeli Kallergi with private pool in the...</td>\n",
       "      <td>The traditional village of Loutra was chosen t...</td>\n",
       "      <td>https://a0.muscache.com/pictures/46608920/8497...</td>\n",
       "      <td>125281</td>\n",
       "      <td>https://www.airbnb.com/users/show/125281</td>\n",
       "      <td>...</td>\n",
       "      <td>5.00</td>\n",
       "      <td>4.67</td>\n",
       "      <td>4.83</td>\n",
       "      <td>2539344</td>\n",
       "      <td>f</td>\n",
       "      <td>3</td>\n",
       "      <td>3</td>\n",
       "      <td>0</td>\n",
       "      <td>0</td>\n",
       "      <td>0.15</td>\n",
       "    </tr>\n",
       "    <tr>\n",
       "      <th>4</th>\n",
       "      <td>29856</td>\n",
       "      <td>https://www.airbnb.com/rooms/29856</td>\n",
       "      <td>20211028170327</td>\n",
       "      <td>2021-10-29</td>\n",
       "      <td>Matala Dimitris Villa - Four Bed Room</td>\n",
       "      <td>Dimitris Villa Hotel consists of 20 rooms, whi...</td>\n",
       "      <td>only 350 m from the Center make our place idea...</td>\n",
       "      <td>https://a0.muscache.com/pictures/c5324bac-75f3...</td>\n",
       "      <td>128653</td>\n",
       "      <td>https://www.airbnb.com/users/show/128653</td>\n",
       "      <td>...</td>\n",
       "      <td>4.40</td>\n",
       "      <td>4.50</td>\n",
       "      <td>4.20</td>\n",
       "      <td>00001193488</td>\n",
       "      <td>t</td>\n",
       "      <td>4</td>\n",
       "      <td>0</td>\n",
       "      <td>4</td>\n",
       "      <td>0</td>\n",
       "      <td>0.45</td>\n",
       "    </tr>\n",
       "  </tbody>\n",
       "</table>\n",
       "<p>5 rows × 74 columns</p>\n",
       "</div>"
      ],
      "text/plain": [
       "      id                         listing_url       scrape_id last_scraped  \\\n",
       "0  27966  https://www.airbnb.com/rooms/27966  20211028170327   2021-10-29   \n",
       "1  28970  https://www.airbnb.com/rooms/28970  20211028170327   2021-10-28   \n",
       "2  29130  https://www.airbnb.com/rooms/29130  20211028170327   2021-10-29   \n",
       "3  29849  https://www.airbnb.com/rooms/29849  20211028170327   2021-10-29   \n",
       "4  29856  https://www.airbnb.com/rooms/29856  20211028170327   2021-10-29   \n",
       "\n",
       "                                    name  \\\n",
       "0           Heraklion-Pinelopi Apartment   \n",
       "1         artists' house in the old town   \n",
       "2         Villa Kallergi - Athena, 640m²   \n",
       "3      Villa Kallergi - Nefeli, 6 guests   \n",
       "4  Matala Dimitris Villa - Four Bed Room   \n",
       "\n",
       "                                         description  \\\n",
       "0  For an unforgettable stay!! Just 10 minutes wa...   \n",
       "1  This is a fully renovated stone house from 191...   \n",
       "2  Villa Athena Kallergi in the heart of the Cret...   \n",
       "3  Villa Nefeli Kallergi with private pool in the...   \n",
       "4  Dimitris Villa Hotel consists of 20 rooms, whi...   \n",
       "\n",
       "                               neighborhood_overview  \\\n",
       "0  Ammoudara is a very cute area with lots of bea...   \n",
       "1  its calm with many old ladies that adooooore s...   \n",
       "2  The traditional village of Loutra was chosen t...   \n",
       "3  The traditional village of Loutra was chosen t...   \n",
       "4  only 350 m from the Center make our place idea...   \n",
       "\n",
       "                                         picture_url  host_id  \\\n",
       "0  https://a0.muscache.com/pictures/b8e0ecb1-c444...   120502   \n",
       "1  https://a0.muscache.com/pictures/25900225/f18f...   124670   \n",
       "2  https://a0.muscache.com/pictures/7a38ebf6-9a7b...   125281   \n",
       "3  https://a0.muscache.com/pictures/46608920/8497...   125281   \n",
       "4  https://a0.muscache.com/pictures/c5324bac-75f3...   128653   \n",
       "\n",
       "                                   host_url  ... review_scores_communication  \\\n",
       "0  https://www.airbnb.com/users/show/120502  ...                        4.99   \n",
       "1  https://www.airbnb.com/users/show/124670  ...                        4.96   \n",
       "2  https://www.airbnb.com/users/show/125281  ...                        4.56   \n",
       "3  https://www.airbnb.com/users/show/125281  ...                        5.00   \n",
       "4  https://www.airbnb.com/users/show/128653  ...                        4.40   \n",
       "\n",
       "  review_scores_location review_scores_value      license instant_bookable  \\\n",
       "0                   4.60                4.91  00000247117                t   \n",
       "1                   4.51                4.51  00000353067                f   \n",
       "2                   4.67                4.78      2512208                f   \n",
       "3                   4.67                4.83      2539344                f   \n",
       "4                   4.50                4.20  00001193488                t   \n",
       "\n",
       "  calculated_host_listings_count calculated_host_listings_count_entire_homes  \\\n",
       "0                              2                                           2   \n",
       "1                              2                                           2   \n",
       "2                              3                                           3   \n",
       "3                              3                                           3   \n",
       "4                              4                                           0   \n",
       "\n",
       "  calculated_host_listings_count_private_rooms  \\\n",
       "0                                            0   \n",
       "1                                            0   \n",
       "2                                            0   \n",
       "3                                            0   \n",
       "4                                            4   \n",
       "\n",
       "  calculated_host_listings_count_shared_rooms reviews_per_month  \n",
       "0                                           0              1.35  \n",
       "1                                           0              0.42  \n",
       "2                                           0              0.34  \n",
       "3                                           0              0.15  \n",
       "4                                           0              0.45  \n",
       "\n",
       "[5 rows x 74 columns]"
      ]
     },
     "execution_count": 3,
     "metadata": {},
     "output_type": "execute_result"
    }
   ],
   "source": [
    "listingDf.head()"
   ]
  },
  {
   "cell_type": "code",
   "execution_count": null,
   "metadata": {},
   "outputs": [],
   "source": [
    "## Ce ar fi interesant de aflat - AirBnb Malta\n",
    "# 1. Date despre apartamente:\n",
    "## 1.1 Private/ Whole apt.\n",
    "## 1.2 Capacitate\n",
    "## 1.3 Prices\n",
    "## 1.4 Location?\n",
    "## 1.5 Scores\n",
    "## 1.6 Reviews - positive/neutru/negative feedback."
   ]
  },
  {
   "cell_type": "code",
   "execution_count": 4,
   "metadata": {},
   "outputs": [
    {
     "data": {
      "text/plain": [
       "20178"
      ]
     },
     "execution_count": 4,
     "metadata": {},
     "output_type": "execute_result"
    }
   ],
   "source": [
    "## Number of observations\n",
    "len(listingDf)\n",
    "## 20178 listings!"
   ]
  },
  {
   "cell_type": "code",
   "execution_count": 9,
   "metadata": {},
   "outputs": [
    {
     "data": {
      "text/plain": [
       "'2021-10-28'"
      ]
     },
     "execution_count": 9,
     "metadata": {},
     "output_type": "execute_result"
    }
   ],
   "source": [
    "listingDf['last_scraped'].max() ## 2021-10-31\n",
    "listingDf['last_scraped'].min() ## 2021-10-28"
   ]
  },
  {
   "cell_type": "code",
   "execution_count": 10,
   "metadata": {},
   "outputs": [
    {
     "data": {
      "text/plain": [
       "True"
      ]
     },
     "execution_count": 10,
     "metadata": {},
     "output_type": "execute_result"
    }
   ],
   "source": [
    "## Check of duplicates\n",
    "listingDf['id'].duplicated().any()\n",
    "## 'id' row doesn't contain duplicates\n",
    "\n",
    "listingDf['host_id'].duplicated().any()\n",
    "## we have duplicates here. this means that a number of people owns several properties\n"
   ]
  },
  {
   "cell_type": "code",
   "execution_count": 66,
   "metadata": {},
   "outputs": [
    {
     "data": {
      "text/plain": [
       "listing_id        int64\n",
       "id                int64\n",
       "date             object\n",
       "reviewer_id       int64\n",
       "reviewer_name    object\n",
       "comments         object\n",
       "dtype: object"
      ]
     },
     "execution_count": 66,
     "metadata": {},
     "output_type": "execute_result"
    }
   ],
   "source": [
    "reviewsDf.dtypes"
   ]
  },
  {
   "cell_type": "code",
   "execution_count": 65,
   "metadata": {},
   "outputs": [
    {
     "data": {
      "text/plain": [
       "id                                                int64\n",
       "listing_url                                      object\n",
       "scrape_id                                         int64\n",
       "last_scraped                                     object\n",
       "name                                             object\n",
       "                                                 ...   \n",
       "calculated_host_listings_count                    int64\n",
       "calculated_host_listings_count_entire_homes       int64\n",
       "calculated_host_listings_count_private_rooms      int64\n",
       "calculated_host_listings_count_shared_rooms       int64\n",
       "reviews_per_month                               float64\n",
       "Length: 74, dtype: object"
      ]
     },
     "execution_count": 65,
     "metadata": {},
     "output_type": "execute_result"
    }
   ],
   "source": [
    "listingDf.dtypes"
   ]
  },
  {
   "cell_type": "code",
   "execution_count": 11,
   "metadata": {},
   "outputs": [
    {
     "data": {
      "text/plain": [
       "11541"
      ]
     },
     "execution_count": 11,
     "metadata": {},
     "output_type": "execute_result"
    }
   ],
   "source": [
    "listingDf['host_id'].duplicated(keep='first').sum()\n",
    "## 11.541 owners vs. 20.178 places listed"
   ]
  },
  {
   "cell_type": "code",
   "execution_count": 20,
   "metadata": {},
   "outputs": [],
   "source": [
    "colnames_listingDf = np.array(listingDf.columns)\n",
    "df_colnames1 = pd.DataFrame(data=colnames_listingDf)\n",
    "df_colnames1 = df_colnames1.rename(columns = {0: 'Colname'}, inplace=False)"
   ]
  },
  {
   "cell_type": "code",
   "execution_count": 12,
   "metadata": {},
   "outputs": [
    {
     "data": {
      "text/html": [
       "<div>\n",
       "<style scoped>\n",
       "    .dataframe tbody tr th:only-of-type {\n",
       "        vertical-align: middle;\n",
       "    }\n",
       "\n",
       "    .dataframe tbody tr th {\n",
       "        vertical-align: top;\n",
       "    }\n",
       "\n",
       "    .dataframe thead th {\n",
       "        text-align: right;\n",
       "    }\n",
       "</style>\n",
       "<table border=\"1\" class=\"dataframe\">\n",
       "  <thead>\n",
       "    <tr style=\"text-align: right;\">\n",
       "      <th></th>\n",
       "      <th>listing_id</th>\n",
       "      <th>id</th>\n",
       "      <th>date</th>\n",
       "      <th>reviewer_id</th>\n",
       "      <th>reviewer_name</th>\n",
       "      <th>comments</th>\n",
       "    </tr>\n",
       "  </thead>\n",
       "  <tbody>\n",
       "    <tr>\n",
       "      <th>0</th>\n",
       "      <td>47974168</td>\n",
       "      <td>408468040499676026</td>\n",
       "      <td>2021-07-17</td>\n",
       "      <td>329255817</td>\n",
       "      <td>Amber</td>\n",
       "      <td>Great location. Finn was very kind and very he...</td>\n",
       "    </tr>\n",
       "    <tr>\n",
       "      <th>1</th>\n",
       "      <td>47974168</td>\n",
       "      <td>420066568784346988</td>\n",
       "      <td>2021-08-02</td>\n",
       "      <td>85242454</td>\n",
       "      <td>Agata</td>\n",
       "      <td>Very well located, clean, and brand new apartm...</td>\n",
       "    </tr>\n",
       "    <tr>\n",
       "      <th>2</th>\n",
       "      <td>47974168</td>\n",
       "      <td>442507449738983902</td>\n",
       "      <td>2021-09-02</td>\n",
       "      <td>208876800</td>\n",
       "      <td>Tooba</td>\n",
       "      <td>We had a great stay at this Airbnb. Ideal loca...</td>\n",
       "    </tr>\n",
       "    <tr>\n",
       "      <th>3</th>\n",
       "      <td>47974168</td>\n",
       "      <td>454772815408678119</td>\n",
       "      <td>2021-09-19</td>\n",
       "      <td>282761842</td>\n",
       "      <td>Konstantin</td>\n",
       "      <td>Very nice apartment, great kitchen with everyt...</td>\n",
       "    </tr>\n",
       "    <tr>\n",
       "      <th>4</th>\n",
       "      <td>47974168</td>\n",
       "      <td>458508331343668440</td>\n",
       "      <td>2021-09-24</td>\n",
       "      <td>72082789</td>\n",
       "      <td>Marek</td>\n",
       "      <td>The place is consistent with the description a...</td>\n",
       "    </tr>\n",
       "  </tbody>\n",
       "</table>\n",
       "</div>"
      ],
      "text/plain": [
       "   listing_id                  id        date  reviewer_id reviewer_name  \\\n",
       "0    47974168  408468040499676026  2021-07-17    329255817         Amber   \n",
       "1    47974168  420066568784346988  2021-08-02     85242454         Agata   \n",
       "2    47974168  442507449738983902  2021-09-02    208876800         Tooba   \n",
       "3    47974168  454772815408678119  2021-09-19    282761842    Konstantin   \n",
       "4    47974168  458508331343668440  2021-09-24     72082789         Marek   \n",
       "\n",
       "                                            comments  \n",
       "0  Great location. Finn was very kind and very he...  \n",
       "1  Very well located, clean, and brand new apartm...  \n",
       "2  We had a great stay at this Airbnb. Ideal loca...  \n",
       "3  Very nice apartment, great kitchen with everyt...  \n",
       "4  The place is consistent with the description a...  "
      ]
     },
     "execution_count": 12,
     "metadata": {},
     "output_type": "execute_result"
    }
   ],
   "source": [
    "reviewsDf.head()"
   ]
  },
  {
   "cell_type": "code",
   "execution_count": 21,
   "metadata": {},
   "outputs": [
    {
     "name": "stdout",
     "output_type": "stream",
     "text": [
      "['number_of_reviews', 'number_of_reviews_ltm', 'number_of_reviews_l30d', 'first_review', 'last_review', 'review_scores_rating', 'review_scores_accuracy', 'review_scores_cleanliness', 'review_scores_checkin', 'review_scores_communication', 'review_scores_location', 'review_scores_value', 'reviews_per_month']\n"
     ]
    }
   ],
   "source": [
    "## select columns related to reviews from the first df \n",
    "reviews_cols = [col for col in listingDf.columns if 'review' in col]\n",
    "print(reviews_cols)\n"
   ]
  },
  {
   "cell_type": "code",
   "execution_count": 25,
   "metadata": {},
   "outputs": [],
   "source": [
    "## create df with id and reviews colnames\n",
    "reviewsDf2 = listingDf.filter(regex='review|id')"
   ]
  },
  {
   "cell_type": "code",
   "execution_count": null,
   "metadata": {},
   "outputs": [],
   "source": [
    "## thought of joining them, but we have multiple reviews on the same propriety"
   ]
  },
  {
   "cell_type": "code",
   "execution_count": 50,
   "metadata": {},
   "outputs": [],
   "source": [
    "#df = reviewsDf.groupby('listing_id')['comments'].nunique()\n",
    "## max comments no. = 425\n",
    "## min comments no. = 1\n",
    "\n",
    "## nunique returns a series. agg returns a df\n",
    "df = reviewsDf.groupby('listing_id').agg({'comments': pd.Series.nunique}) ##6428"
   ]
  },
  {
   "cell_type": "code",
   "execution_count": 36,
   "metadata": {},
   "outputs": [
    {
     "data": {
      "text/plain": [
       "26.437305538270067"
      ]
     },
     "execution_count": 36,
     "metadata": {},
     "output_type": "execute_result"
    }
   ],
   "source": [
    "df['comments'].mean() ## around 26 reviews."
   ]
  },
  {
   "cell_type": "code",
   "execution_count": 41,
   "metadata": {},
   "outputs": [
    {
     "data": {
      "image/png": "[encoded data removed]",
      "text/plain": [
       "<Figure size 432x288 with 1 Axes>"
      ]
     },
     "metadata": {
      "needs_background": "light"
     },
     "output_type": "display_data"
    }
   ],
   "source": [
    "import matplotlib.pyplot as plt\n",
    "\n",
    "# Generate data on commute times.\n",
    "size, scale = 1000, 10\n",
    "#commutes = pd.Series(np.random.gamma(scale, size=size) ** 1.5)\n",
    "\n",
    "df.plot.hist(grid=True, bins=20, rwidth=0.9,\n",
    "                   color='#607c8e')\n",
    "plt.title('Histogram - Number of reviews')\n",
    "plt.xlabel('Counts')\n",
    "plt.ylabel('Owners')\n",
    "plt.grid(axis='y', alpha=0.75)"
   ]
  },
  {
   "cell_type": "code",
   "execution_count": 42,
   "metadata": {},
   "outputs": [],
   "source": [
    "## select homes with >= 50 reviews\n",
    "df = df[df.comments >= 50] ##1063"
   ]
  },
  {
   "cell_type": "code",
   "execution_count": 43,
   "metadata": {},
   "outputs": [
    {
     "data": {
      "image/png": "[encoded data removed]",
      "text/plain": [
       "<Figure size 432x288 with 1 Axes>"
      ]
     },
     "metadata": {
      "needs_background": "light"
     },
     "output_type": "display_data"
    }
   ],
   "source": [
    "# Generate data on commute times.\n",
    "size, scale = 1000, 10\n",
    "#commutes = pd.Series(np.random.gamma(scale, size=size) ** 1.5)\n",
    "\n",
    "df.plot.hist(grid=True, bins=20, rwidth=0.9,\n",
    "                   color='#607c8e')\n",
    "plt.title('Histogram - Number of reviews')\n",
    "plt.xlabel('Counts')\n",
    "plt.ylabel('Owners')\n",
    "plt.grid(axis='y', alpha=0.75)"
   ]
  },
  {
   "cell_type": "code",
   "execution_count": 51,
   "metadata": {},
   "outputs": [],
   "source": [
    "## listing_id converted from index to column\n",
    "df['listing_id'] = df.index"
   ]
  },
  {
   "cell_type": "code",
   "execution_count": 53,
   "metadata": {},
   "outputs": [
    {
     "data": {
      "text/plain": [
       "Index(['comments', 'listing_id'], dtype='object')"
      ]
     },
     "execution_count": 53,
     "metadata": {},
     "output_type": "execute_result"
    }
   ],
   "source": [
    "df.columns"
   ]
  },
  {
   "cell_type": "code",
   "execution_count": null,
   "metadata": {},
   "outputs": [],
   "source": [
    "ids = df['listing_id'].to_list()\n",
    "#print(f\"\\nids:\\n{ids}\\ntype:{type(ids)}\")"
   ]
  },
  {
   "cell_type": "code",
   "execution_count": 59,
   "metadata": {},
   "outputs": [],
   "source": [
    "## select only the listings in the array\n",
    "sampleReviews = reviewsDf[reviewsDf.listing_id.isin(ids)]"
   ]
  },
  {
   "cell_type": "code",
   "execution_count": 64,
   "metadata": {},
   "outputs": [],
   "source": [
    "sampleReviews = reviewsDf[reviewsDf['listing_id'].isin([50188, 102120])]"
   ]
  },
  {
   "cell_type": "code",
   "execution_count": 63,
   "metadata": {},
   "outputs": [
    {
     "data": {
      "text/plain": [
       "170069"
      ]
     },
     "execution_count": 63,
     "metadata": {},
     "output_type": "execute_result"
    }
   ],
   "source": [
    "len(sampleReviews)"
   ]
  }
 ],
 "metadata": {
  "interpreter": {
   "hash": "b655fb35f72a9c83beb7c07155e9e080fc56df27abbab5aa83a403845b4c6b8d"
  },
  "kernelspec": {
   "display_name": "Python 3.9.4 64-bit ('env': venv)",
   "language": "python",
   "name": "python3"
  },
  "language_info": {
   "codemirror_mode": {
    "name": "ipython",
    "version": 3
   },
   "file_extension": ".py",
   "mimetype": "text/x-python",
   "name": "python",
   "nbconvert_exporter": "python",
   "pygments_lexer": "ipython3",
   "version": "3.9.4"
  },
  "orig_nbformat": 4
 },
 "nbformat": 4,
 "nbformat_minor": 2
}
