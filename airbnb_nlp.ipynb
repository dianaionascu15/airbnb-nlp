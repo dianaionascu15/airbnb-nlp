{
 "cells": [
  {
   "cell_type": "markdown",
   "metadata": {},
   "source": [
    "## 1.Data analysis - Malta Airbnb"
   ]
  },
  {
   "cell_type": "code",
   "execution_count": 1,
   "metadata": {},
   "outputs": [],
   "source": [
    "## Import libraries\n",
    "import pandas as pd \n",
    "import numpy as np\n",
    "\n",
    "import csv\n",
    "\n",
    "#Natural Language processing \n",
    "from nltk.tokenize import word_tokenize\n",
    "from nltk.corpus import stopwords\n",
    "import re\n",
    "from sklearn.feature_extraction.text import TfidfVectorizer, CountVectorizer\n",
    "from wordcloud import WordCloud\n",
    "\n",
    "import nltk\n",
    "import ssl\n",
    "\n",
    "try:\n",
    "    _create_unverified_https_context = ssl._create_unverified_context\n",
    "except AttributeError:\n",
    "    pass\n",
    "else:\n",
    "    ssl._create_default_https_context = _create_unverified_https_context\n",
    "\n",
    "from nltk.probability import FreqDist\n",
    "\n",
    "## Data visualization\n",
    "import seaborn as sns\n",
    "import matplotlib.pyplot as plt\n"
   ]
  },
  {
   "cell_type": "code",
   "execution_count": 2,
   "metadata": {},
   "outputs": [],
   "source": [
    "## Load data\n",
    "## http://insideairbnb.com/get-the-data.html 28 DEC 2021 LAST COMPILED\n",
    "## https://github.com/Lukastuong123/Python/blob/master/Project-%20Airbnb%20(Python-%20Interactive%20Map%2C%20Natural%20Language%20Processing%2C%20Comparative%20Study%2C%20Regression)/Project.%20AirBnB%20Part%20B%20(Python-%20Interactive%20Map%2C%20Natural%20Language%20Processing)%20.ipynb\n",
    "\n",
    "listings = pd.read_csv('./Data/listings.csv')\n",
    "reviews = pd.read_csv('./Data/reviews.csv')\n",
    "listings_summary = pd.read_csv('./Data/listings_summary.csv')"
   ]
  },
  {
   "cell_type": "code",
   "execution_count": 21,
   "metadata": {},
   "outputs": [
    {
     "data": {
      "text/html": [
       "<div>\n",
       "<style scoped>\n",
       "    .dataframe tbody tr th:only-of-type {\n",
       "        vertical-align: middle;\n",
       "    }\n",
       "\n",
       "    .dataframe tbody tr th {\n",
       "        vertical-align: top;\n",
       "    }\n",
       "\n",
       "    .dataframe thead th {\n",
       "        text-align: right;\n",
       "    }\n",
       "</style>\n",
       "<table border=\"1\" class=\"dataframe\">\n",
       "  <thead>\n",
       "    <tr style=\"text-align: right;\">\n",
       "      <th></th>\n",
       "      <th>id</th>\n",
       "      <th>listing_url</th>\n",
       "      <th>scrape_id</th>\n",
       "      <th>last_searched</th>\n",
       "      <th>last_scraped</th>\n",
       "      <th>name</th>\n",
       "      <th>description</th>\n",
       "      <th>neighborhood_overview</th>\n",
       "      <th>picture_url</th>\n",
       "      <th>host_id</th>\n",
       "      <th>...</th>\n",
       "      <th>calculated_host_listings_count_entire_homes</th>\n",
       "      <th>calculated_host_listings_count_private_rooms</th>\n",
       "      <th>calculated_host_listings_count_shared_rooms</th>\n",
       "      <th>region_id</th>\n",
       "      <th>region_name</th>\n",
       "      <th>region_parent_id</th>\n",
       "      <th>region_parent_name</th>\n",
       "      <th>region_parent_parent_id</th>\n",
       "      <th>region_parent_parent_name</th>\n",
       "      <th>reviews_per_month</th>\n",
       "    </tr>\n",
       "  </thead>\n",
       "  <tbody>\n",
       "    <tr>\n",
       "      <th>0</th>\n",
       "      <td>53988243</td>\n",
       "      <td>https://www.airbnb.com/rooms/53988243</td>\n",
       "      <td>20211228232058</td>\n",
       "      <td>2021-12-28</td>\n",
       "      <td>2021-12-30</td>\n",
       "      <td>Brand-new shared one-bedroom apartment (only g...</td>\n",
       "      <td>In the middle of San Julian and Sliema. Bus st...</td>\n",
       "      <td>NaN</td>\n",
       "      <td>https://a0.muscache.com/pictures/d5fd9439-76bc...</td>\n",
       "      <td>49911004</td>\n",
       "      <td>...</td>\n",
       "      <td>0</td>\n",
       "      <td>0</td>\n",
       "      <td>1</td>\n",
       "      <td>MT01253</td>\n",
       "      <td>San Gwann</td>\n",
       "      <td>NaN</td>\n",
       "      <td>NaN</td>\n",
       "      <td>NaN</td>\n",
       "      <td>NaN</td>\n",
       "      <td>NaN</td>\n",
       "    </tr>\n",
       "    <tr>\n",
       "      <th>1</th>\n",
       "      <td>39695529</td>\n",
       "      <td>https://www.airbnb.com/rooms/39695529</td>\n",
       "      <td>20211228232058</td>\n",
       "      <td>2021-12-28</td>\n",
       "      <td>2021-12-30</td>\n",
       "      <td>modern apartment</td>\n",
       "      <td>the apartment is very big and modern and its i...</td>\n",
       "      <td>mini market in 2 min walk &lt;br /&gt;super market 1...</td>\n",
       "      <td>https://a0.muscache.com/pictures/e41a92fc-c010...</td>\n",
       "      <td>217804068</td>\n",
       "      <td>...</td>\n",
       "      <td>1</td>\n",
       "      <td>1</td>\n",
       "      <td>0</td>\n",
       "      <td>MT01310</td>\n",
       "      <td>Zejtun</td>\n",
       "      <td>NaN</td>\n",
       "      <td>NaN</td>\n",
       "      <td>NaN</td>\n",
       "      <td>NaN</td>\n",
       "      <td>NaN</td>\n",
       "    </tr>\n",
       "    <tr>\n",
       "      <th>2</th>\n",
       "      <td>11579194</td>\n",
       "      <td>https://www.airbnb.com/rooms/11579194</td>\n",
       "      <td>20211228232058</td>\n",
       "      <td>2021-12-28</td>\n",
       "      <td>2021-12-30</td>\n",
       "      <td>The Residence 03 - University area</td>\n",
       "      <td>The Residence is located within the upmarket H...</td>\n",
       "      <td>The Residence is located within the upmarket H...</td>\n",
       "      <td>https://a0.muscache.com/pictures/d7d822dd-3031...</td>\n",
       "      <td>57084556</td>\n",
       "      <td>...</td>\n",
       "      <td>0</td>\n",
       "      <td>7</td>\n",
       "      <td>0</td>\n",
       "      <td>MT01253</td>\n",
       "      <td>San Gwann</td>\n",
       "      <td>NaN</td>\n",
       "      <td>NaN</td>\n",
       "      <td>NaN</td>\n",
       "      <td>NaN</td>\n",
       "      <td>0.19</td>\n",
       "    </tr>\n",
       "    <tr>\n",
       "      <th>3</th>\n",
       "      <td>23363846</td>\n",
       "      <td>https://www.airbnb.com/rooms/23363846</td>\n",
       "      <td>20211228232058</td>\n",
       "      <td>2021-12-28</td>\n",
       "      <td>2021-12-30</td>\n",
       "      <td>Full Air-conditioned, 2 Bedroom Apt.</td>\n",
       "      <td>An 80sqm 2 bedroom apartment in the South of M...</td>\n",
       "      <td>The apartment on top lives an Sicilian family....</td>\n",
       "      <td>https://a0.muscache.com/pictures/bca21e3d-f0e5...</td>\n",
       "      <td>31383964</td>\n",
       "      <td>...</td>\n",
       "      <td>1</td>\n",
       "      <td>0</td>\n",
       "      <td>0</td>\n",
       "      <td>MT01310</td>\n",
       "      <td>Zejtun</td>\n",
       "      <td>NaN</td>\n",
       "      <td>NaN</td>\n",
       "      <td>NaN</td>\n",
       "      <td>NaN</td>\n",
       "      <td>0.97</td>\n",
       "    </tr>\n",
       "    <tr>\n",
       "      <th>4</th>\n",
       "      <td>33903128</td>\n",
       "      <td>https://www.airbnb.com/rooms/33903128</td>\n",
       "      <td>20211228232058</td>\n",
       "      <td>2021-12-28</td>\n",
       "      <td>2021-12-30</td>\n",
       "      <td>Village Knights B&amp;B - Valletta Room</td>\n",
       "      <td>A luxury, authentic, house of character in the...</td>\n",
       "      <td>Just a 4 min walk up the road to the centre, o...</td>\n",
       "      <td>https://a0.muscache.com/pictures/94dc5710-ec97...</td>\n",
       "      <td>239349288</td>\n",
       "      <td>...</td>\n",
       "      <td>0</td>\n",
       "      <td>1</td>\n",
       "      <td>0</td>\n",
       "      <td>MT01407</td>\n",
       "      <td>Zebbug (Malta)</td>\n",
       "      <td>NaN</td>\n",
       "      <td>NaN</td>\n",
       "      <td>NaN</td>\n",
       "      <td>NaN</td>\n",
       "      <td>NaN</td>\n",
       "    </tr>\n",
       "  </tbody>\n",
       "</table>\n",
       "<p>5 rows × 80 columns</p>\n",
       "</div>"
      ],
      "text/plain": [
       "         id                            listing_url       scrape_id  \\\n",
       "0  53988243  https://www.airbnb.com/rooms/53988243  20211228232058   \n",
       "1  39695529  https://www.airbnb.com/rooms/39695529  20211228232058   \n",
       "2  11579194  https://www.airbnb.com/rooms/11579194  20211228232058   \n",
       "3  23363846  https://www.airbnb.com/rooms/23363846  20211228232058   \n",
       "4  33903128  https://www.airbnb.com/rooms/33903128  20211228232058   \n",
       "\n",
       "  last_searched last_scraped  \\\n",
       "0    2021-12-28   2021-12-30   \n",
       "1    2021-12-28   2021-12-30   \n",
       "2    2021-12-28   2021-12-30   \n",
       "3    2021-12-28   2021-12-30   \n",
       "4    2021-12-28   2021-12-30   \n",
       "\n",
       "                                                name  \\\n",
       "0  Brand-new shared one-bedroom apartment (only g...   \n",
       "1                                   modern apartment   \n",
       "2                 The Residence 03 - University area   \n",
       "3               Full Air-conditioned, 2 Bedroom Apt.   \n",
       "4                Village Knights B&B - Valletta Room   \n",
       "\n",
       "                                         description  \\\n",
       "0  In the middle of San Julian and Sliema. Bus st...   \n",
       "1  the apartment is very big and modern and its i...   \n",
       "2  The Residence is located within the upmarket H...   \n",
       "3  An 80sqm 2 bedroom apartment in the South of M...   \n",
       "4  A luxury, authentic, house of character in the...   \n",
       "\n",
       "                               neighborhood_overview  \\\n",
       "0                                                NaN   \n",
       "1  mini market in 2 min walk <br />super market 1...   \n",
       "2  The Residence is located within the upmarket H...   \n",
       "3  The apartment on top lives an Sicilian family....   \n",
       "4  Just a 4 min walk up the road to the centre, o...   \n",
       "\n",
       "                                         picture_url    host_id  ...  \\\n",
       "0  https://a0.muscache.com/pictures/d5fd9439-76bc...   49911004  ...   \n",
       "1  https://a0.muscache.com/pictures/e41a92fc-c010...  217804068  ...   \n",
       "2  https://a0.muscache.com/pictures/d7d822dd-3031...   57084556  ...   \n",
       "3  https://a0.muscache.com/pictures/bca21e3d-f0e5...   31383964  ...   \n",
       "4  https://a0.muscache.com/pictures/94dc5710-ec97...  239349288  ...   \n",
       "\n",
       "  calculated_host_listings_count_entire_homes  \\\n",
       "0                                           0   \n",
       "1                                           1   \n",
       "2                                           0   \n",
       "3                                           1   \n",
       "4                                           0   \n",
       "\n",
       "  calculated_host_listings_count_private_rooms  \\\n",
       "0                                            0   \n",
       "1                                            1   \n",
       "2                                            7   \n",
       "3                                            0   \n",
       "4                                            1   \n",
       "\n",
       "  calculated_host_listings_count_shared_rooms region_id     region_name  \\\n",
       "0                                           1   MT01253       San Gwann   \n",
       "1                                           0   MT01310          Zejtun   \n",
       "2                                           0   MT01253       San Gwann   \n",
       "3                                           0   MT01310          Zejtun   \n",
       "4                                           0   MT01407  Zebbug (Malta)   \n",
       "\n",
       "  region_parent_id region_parent_name region_parent_parent_id  \\\n",
       "0              NaN                NaN                     NaN   \n",
       "1              NaN                NaN                     NaN   \n",
       "2              NaN                NaN                     NaN   \n",
       "3              NaN                NaN                     NaN   \n",
       "4              NaN                NaN                     NaN   \n",
       "\n",
       "  region_parent_parent_name reviews_per_month  \n",
       "0                       NaN               NaN  \n",
       "1                       NaN               NaN  \n",
       "2                       NaN              0.19  \n",
       "3                       NaN              0.97  \n",
       "4                       NaN               NaN  \n",
       "\n",
       "[5 rows x 80 columns]"
      ]
     },
     "execution_count": 21,
     "metadata": {},
     "output_type": "execute_result"
    }
   ],
   "source": [
    "## Check detailed listings dataframe\n",
    "listings.head()"
   ]
  },
  {
   "cell_type": "code",
   "execution_count": 3,
   "metadata": {},
   "outputs": [
    {
     "data": {
      "text/html": [
       "<div>\n",
       "<style scoped>\n",
       "    .dataframe tbody tr th:only-of-type {\n",
       "        vertical-align: middle;\n",
       "    }\n",
       "\n",
       "    .dataframe tbody tr th {\n",
       "        vertical-align: top;\n",
       "    }\n",
       "\n",
       "    .dataframe thead th {\n",
       "        text-align: right;\n",
       "    }\n",
       "</style>\n",
       "<table border=\"1\" class=\"dataframe\">\n",
       "  <thead>\n",
       "    <tr style=\"text-align: right;\">\n",
       "      <th></th>\n",
       "      <th>listing_id</th>\n",
       "      <th>id</th>\n",
       "      <th>date</th>\n",
       "      <th>reviewer_id</th>\n",
       "      <th>reviewer_name</th>\n",
       "      <th>comments</th>\n",
       "    </tr>\n",
       "  </thead>\n",
       "  <tbody>\n",
       "    <tr>\n",
       "      <th>0</th>\n",
       "      <td>637763</td>\n",
       "      <td>2173360</td>\n",
       "      <td>2012-09-02</td>\n",
       "      <td>3250724</td>\n",
       "      <td>Naoufal</td>\n",
       "      <td>My stay here was à lot better than I expected!...</td>\n",
       "    </tr>\n",
       "    <tr>\n",
       "      <th>1</th>\n",
       "      <td>637763</td>\n",
       "      <td>2490468</td>\n",
       "      <td>2012-10-02</td>\n",
       "      <td>2678469</td>\n",
       "      <td>Joey</td>\n",
       "      <td>This was an absolutely delightful place to sta...</td>\n",
       "    </tr>\n",
       "    <tr>\n",
       "      <th>2</th>\n",
       "      <td>637763</td>\n",
       "      <td>2597919</td>\n",
       "      <td>2012-10-13</td>\n",
       "      <td>3679703</td>\n",
       "      <td>Katerina</td>\n",
       "      <td>My boyfriend and I stayed at Stefania's place ...</td>\n",
       "    </tr>\n",
       "    <tr>\n",
       "      <th>3</th>\n",
       "      <td>637763</td>\n",
       "      <td>4075716</td>\n",
       "      <td>2013-04-08</td>\n",
       "      <td>4180801</td>\n",
       "      <td>Philippe</td>\n",
       "      <td>very nice place to visit Malta. The house is c...</td>\n",
       "    </tr>\n",
       "    <tr>\n",
       "      <th>4</th>\n",
       "      <td>637763</td>\n",
       "      <td>4178698</td>\n",
       "      <td>2013-04-16</td>\n",
       "      <td>4902150</td>\n",
       "      <td>Roman</td>\n",
       "      <td>War alles gut bei Stefania. Sehr freundlich un...</td>\n",
       "    </tr>\n",
       "  </tbody>\n",
       "</table>\n",
       "</div>"
      ],
      "text/plain": [
       "   listing_id       id        date  reviewer_id reviewer_name  \\\n",
       "0      637763  2173360  2012-09-02      3250724       Naoufal   \n",
       "1      637763  2490468  2012-10-02      2678469          Joey   \n",
       "2      637763  2597919  2012-10-13      3679703      Katerina   \n",
       "3      637763  4075716  2013-04-08      4180801      Philippe   \n",
       "4      637763  4178698  2013-04-16      4902150         Roman   \n",
       "\n",
       "                                            comments  \n",
       "0  My stay here was à lot better than I expected!...  \n",
       "1  This was an absolutely delightful place to sta...  \n",
       "2  My boyfriend and I stayed at Stefania's place ...  \n",
       "3  very nice place to visit Malta. The house is c...  \n",
       "4  War alles gut bei Stefania. Sehr freundlich un...  "
      ]
     },
     "execution_count": 3,
     "metadata": {},
     "output_type": "execute_result"
    }
   ],
   "source": [
    "## Check reviews dataframe\n",
    "reviews.head(5)"
   ]
  },
  {
   "cell_type": "code",
   "execution_count": null,
   "metadata": {},
   "outputs": [],
   "source": [
    "## Check columns related to reviews from listings df\n",
    "reviews_cols = [col for col in listings.columns if 'review' in col]\n",
    "print(reviews_cols)"
   ]
  },
  {
   "cell_type": "code",
   "execution_count": 4,
   "metadata": {},
   "outputs": [
    {
     "name": "stdout",
     "output_type": "stream",
     "text": [
      "<class 'pandas.core.frame.DataFrame'>\n",
      "RangeIndex: 173180 entries, 0 to 173179\n",
      "Data columns (total 6 columns):\n",
      " #   Column         Non-Null Count   Dtype \n",
      "---  ------         --------------   ----- \n",
      " 0   listing_id     173180 non-null  int64 \n",
      " 1   id             173180 non-null  int64 \n",
      " 2   date           173180 non-null  object\n",
      " 3   reviewer_id    173180 non-null  int64 \n",
      " 4   reviewer_name  173180 non-null  object\n",
      " 5   comments       173093 non-null  object\n",
      "dtypes: int64(3), object(3)\n",
      "memory usage: 7.9+ MB\n"
     ]
    }
   ],
   "source": [
    "## Check information about data type \n",
    "\n",
    "#listings.info()\n",
    "## 8406 unique listings ID\n",
    "\n",
    "reviews.info()\n",
    "## 173180 comments"
   ]
  },
  {
   "cell_type": "code",
   "execution_count": 11,
   "metadata": {},
   "outputs": [
    {
     "name": "stdout",
     "output_type": "stream",
     "text": [
      "Number of unique listings id is: 8406\n",
      "Number of unique hosts id is: 3678\n"
     ]
    }
   ],
   "source": [
    "## Check for duplicates in listingd id\n",
    "print(\"Number of unique listings id is:\", listings.id.nunique())\n",
    "\n",
    "## Unique number of host_id - 3678\n",
    "print(\"Number of unique hosts id is:\", listings.host_id.nunique())\n",
    "\n",
    "## There are 8406 properties belonging to 3678 owners.\n"
   ]
  },
  {
   "cell_type": "code",
   "execution_count": 42,
   "metadata": {},
   "outputs": [
    {
     "data": {
      "text/plain": [
       "Entire home/apt    5433\n",
       "Private room       2614\n",
       "Shared room         230\n",
       "Hotel room          129\n",
       "Name: room_type, dtype: int64"
      ]
     },
     "execution_count": 42,
     "metadata": {},
     "output_type": "execute_result"
    }
   ],
   "source": [
    "## room_type vs. property_type\n",
    "listings.room_type.nunique() #4\n",
    "listings.property_type.nunique() #67\n",
    "## choosing room_type, it's better grouped\n",
    "\n",
    "listings.room_type.value_counts() \n",
    "## Entire home/apt seems to be the most common. It represents almost 65% of the sample, while private room 31%"
   ]
  },
  {
   "cell_type": "code",
   "execution_count": 41,
   "metadata": {},
   "outputs": [
    {
     "data": {
      "text/plain": [
       "68"
      ]
     },
     "execution_count": 41,
     "metadata": {},
     "output_type": "execute_result"
    }
   ],
   "source": [
    "## for region_type\n",
    "listings.region_name.nunique() #68"
   ]
  },
  {
   "cell_type": "code",
   "execution_count": 30,
   "metadata": {},
   "outputs": [],
   "source": [
    "## Save column names in separate df to take a look at them\n",
    "colnames_listingDf = np.array(listings.columns)\n",
    "df_colnames = pd.DataFrame(data=colnames_listingDf)\n",
    "df_colnames = df_colnames.rename(columns = {0: 'Colname'}, inplace=False)"
   ]
  },
  {
   "cell_type": "code",
   "execution_count": 3,
   "metadata": {},
   "outputs": [],
   "source": [
    "## Select columns to further analyse\n",
    "necessary_columns = ['id', 'name', 'host_id',  'host_since', 'host_is_superhost', 'host_response_rate', \n",
    "                     'room_type', 'accommodates', 'minimum_nights', 'first_review', 'last_review', \"price\",\n",
    "                     'review_scores_rating', 'calculated_host_listings_count', 'region_name', 'number_of_reviews']\n",
    "\n",
    "## reviews_scores_rating was checked by looking at airbnb website\n",
    "\n",
    "listings2 = listings.loc[:, listings.columns.isin(necessary_columns)]"
   ]
  },
  {
   "cell_type": "code",
   "execution_count": 4,
   "metadata": {},
   "outputs": [
    {
     "name": "stdout",
     "output_type": "stream",
     "text": [
      "<class 'pandas.core.frame.DataFrame'>\n",
      "RangeIndex: 8406 entries, 0 to 8405\n",
      "Data columns (total 16 columns):\n",
      " #   Column                          Non-Null Count  Dtype  \n",
      "---  ------                          --------------  -----  \n",
      " 0   id                              8406 non-null   int64  \n",
      " 1   name                            8405 non-null   object \n",
      " 2   host_id                         8406 non-null   int64  \n",
      " 3   host_since                      8406 non-null   object \n",
      " 4   host_response_rate              6400 non-null   object \n",
      " 5   host_is_superhost               8406 non-null   object \n",
      " 6   room_type                       8406 non-null   object \n",
      " 7   accommodates                    8406 non-null   int64  \n",
      " 8   price                           8406 non-null   float64\n",
      " 9   minimum_nights                  8406 non-null   int64  \n",
      " 10  number_of_reviews               8406 non-null   int64  \n",
      " 11  first_review                    6414 non-null   object \n",
      " 12  last_review                     6414 non-null   object \n",
      " 13  review_scores_rating            6414 non-null   float64\n",
      " 14  calculated_host_listings_count  8406 non-null   int64  \n",
      " 15  region_name                     8406 non-null   object \n",
      "dtypes: float64(2), int64(6), object(8)\n",
      "memory usage: 1.0+ MB\n"
     ]
    },
    {
     "name": "stderr",
     "output_type": "stream",
     "text": [
      "<ipython-input-4-83c5eeba5965>:2: FutureWarning: The default value of regex will change from True to False in a future version.\n",
      "  listings2.price = listings2.price.str.replace(\"[$, ]\", \"\") ## remove '$' and ',' signs\n",
      "/Library/Frameworks/Python.framework/Versions/3.9/lib/python3.9/site-packages/pandas/core/generic.py:5494: SettingWithCopyWarning: \n",
      "A value is trying to be set on a copy of a slice from a DataFrame.\n",
      "Try using .loc[row_indexer,col_indexer] = value instead\n",
      "\n",
      "See the caveats in the documentation: https://pandas.pydata.org/pandas-docs/stable/user_guide/indexing.html#returning-a-view-versus-a-copy\n",
      "  self[name] = value\n"
     ]
    }
   ],
   "source": [
    "## Convert price type to float\n",
    "listings2.price = listings2.price.str.replace(\"[$, ]\", \"\") ## remove '$' and ',' signs\n",
    "listings2.price =listings2.price.astype('float') ## convert\n",
    "listings2.info()"
   ]
  },
  {
   "cell_type": "code",
   "execution_count": 29,
   "metadata": {},
   "outputs": [
    {
     "data": {
      "text/html": [
       "<div>\n",
       "<style scoped>\n",
       "    .dataframe tbody tr th:only-of-type {\n",
       "        vertical-align: middle;\n",
       "    }\n",
       "\n",
       "    .dataframe tbody tr th {\n",
       "        vertical-align: top;\n",
       "    }\n",
       "\n",
       "    .dataframe thead th {\n",
       "        text-align: right;\n",
       "    }\n",
       "</style>\n",
       "<table border=\"1\" class=\"dataframe\">\n",
       "  <thead>\n",
       "    <tr style=\"text-align: right;\">\n",
       "      <th></th>\n",
       "      <th>id</th>\n",
       "      <th>host_id</th>\n",
       "      <th>accommodates</th>\n",
       "      <th>price</th>\n",
       "      <th>minimum_nights</th>\n",
       "      <th>number_of_reviews</th>\n",
       "      <th>review_scores_rating</th>\n",
       "      <th>review_scores_value</th>\n",
       "      <th>calculated_host_listings_count</th>\n",
       "    </tr>\n",
       "  </thead>\n",
       "  <tbody>\n",
       "    <tr>\n",
       "      <th>count</th>\n",
       "      <td>8.406000e+03</td>\n",
       "      <td>8.406000e+03</td>\n",
       "      <td>8406.000000</td>\n",
       "      <td>8406.000000</td>\n",
       "      <td>8406.000000</td>\n",
       "      <td>8406.000000</td>\n",
       "      <td>6414.000000</td>\n",
       "      <td>6339.000000</td>\n",
       "      <td>8406.000000</td>\n",
       "    </tr>\n",
       "    <tr>\n",
       "      <th>mean</th>\n",
       "      <td>3.262605e+07</td>\n",
       "      <td>1.413875e+08</td>\n",
       "      <td>4.051511</td>\n",
       "      <td>100.818463</td>\n",
       "      <td>4.507733</td>\n",
       "      <td>20.601951</td>\n",
       "      <td>4.608499</td>\n",
       "      <td>4.641647</td>\n",
       "      <td>28.538663</td>\n",
       "    </tr>\n",
       "    <tr>\n",
       "      <th>std</th>\n",
       "      <td>1.547576e+07</td>\n",
       "      <td>1.205963e+08</td>\n",
       "      <td>2.524990</td>\n",
       "      <td>134.170182</td>\n",
       "      <td>23.695342</td>\n",
       "      <td>37.068934</td>\n",
       "      <td>0.690997</td>\n",
       "      <td>0.472872</td>\n",
       "      <td>81.324078</td>\n",
       "    </tr>\n",
       "    <tr>\n",
       "      <th>min</th>\n",
       "      <td>5.018800e+04</td>\n",
       "      <td>5.900800e+04</td>\n",
       "      <td>1.000000</td>\n",
       "      <td>8.000000</td>\n",
       "      <td>1.000000</td>\n",
       "      <td>0.000000</td>\n",
       "      <td>0.000000</td>\n",
       "      <td>1.000000</td>\n",
       "      <td>1.000000</td>\n",
       "    </tr>\n",
       "    <tr>\n",
       "      <th>25%</th>\n",
       "      <td>2.016570e+07</td>\n",
       "      <td>3.039001e+07</td>\n",
       "      <td>2.000000</td>\n",
       "      <td>44.000000</td>\n",
       "      <td>1.000000</td>\n",
       "      <td>1.000000</td>\n",
       "      <td>4.530000</td>\n",
       "      <td>4.540000</td>\n",
       "      <td>1.000000</td>\n",
       "    </tr>\n",
       "    <tr>\n",
       "      <th>50%</th>\n",
       "      <td>3.496828e+07</td>\n",
       "      <td>1.184890e+08</td>\n",
       "      <td>4.000000</td>\n",
       "      <td>70.000000</td>\n",
       "      <td>2.000000</td>\n",
       "      <td>5.000000</td>\n",
       "      <td>4.800000</td>\n",
       "      <td>4.750000</td>\n",
       "      <td>3.000000</td>\n",
       "    </tr>\n",
       "    <tr>\n",
       "      <th>75%</th>\n",
       "      <td>4.718476e+07</td>\n",
       "      <td>2.225276e+08</td>\n",
       "      <td>6.000000</td>\n",
       "      <td>118.000000</td>\n",
       "      <td>3.000000</td>\n",
       "      <td>23.000000</td>\n",
       "      <td>5.000000</td>\n",
       "      <td>4.930000</td>\n",
       "      <td>11.000000</td>\n",
       "    </tr>\n",
       "    <tr>\n",
       "      <th>max</th>\n",
       "      <td>5.403093e+07</td>\n",
       "      <td>4.362538e+08</td>\n",
       "      <td>16.000000</td>\n",
       "      <td>4500.000000</td>\n",
       "      <td>1000.000000</td>\n",
       "      <td>427.000000</td>\n",
       "      <td>5.000000</td>\n",
       "      <td>5.000000</td>\n",
       "      <td>380.000000</td>\n",
       "    </tr>\n",
       "  </tbody>\n",
       "</table>\n",
       "</div>"
      ],
      "text/plain": [
       "                 id       host_id  accommodates        price  minimum_nights  \\\n",
       "count  8.406000e+03  8.406000e+03   8406.000000  8406.000000     8406.000000   \n",
       "mean   3.262605e+07  1.413875e+08      4.051511   100.818463        4.507733   \n",
       "std    1.547576e+07  1.205963e+08      2.524990   134.170182       23.695342   \n",
       "min    5.018800e+04  5.900800e+04      1.000000     8.000000        1.000000   \n",
       "25%    2.016570e+07  3.039001e+07      2.000000    44.000000        1.000000   \n",
       "50%    3.496828e+07  1.184890e+08      4.000000    70.000000        2.000000   \n",
       "75%    4.718476e+07  2.225276e+08      6.000000   118.000000        3.000000   \n",
       "max    5.403093e+07  4.362538e+08     16.000000  4500.000000     1000.000000   \n",
       "\n",
       "       number_of_reviews  review_scores_rating  review_scores_value  \\\n",
       "count        8406.000000           6414.000000          6339.000000   \n",
       "mean           20.601951              4.608499             4.641647   \n",
       "std            37.068934              0.690997             0.472872   \n",
       "min             0.000000              0.000000             1.000000   \n",
       "25%             1.000000              4.530000             4.540000   \n",
       "50%             5.000000              4.800000             4.750000   \n",
       "75%            23.000000              5.000000             4.930000   \n",
       "max           427.000000              5.000000             5.000000   \n",
       "\n",
       "       calculated_host_listings_count  \n",
       "count                     8406.000000  \n",
       "mean                        28.538663  \n",
       "std                         81.324078  \n",
       "min                          1.000000  \n",
       "25%                          1.000000  \n",
       "50%                          3.000000  \n",
       "75%                         11.000000  \n",
       "max                        380.000000  "
      ]
     },
     "execution_count": 29,
     "metadata": {},
     "output_type": "execute_result"
    }
   ],
   "source": [
    "## Descriptive statistics\n",
    "dataDescrib = listings2.describe()\n",
    "dataDescrib"
   ]
  },
  {
   "cell_type": "code",
   "execution_count": 35,
   "metadata": {},
   "outputs": [
    {
     "data": {
      "text/html": [
       "<div>\n",
       "<style scoped>\n",
       "    .dataframe tbody tr th:only-of-type {\n",
       "        vertical-align: middle;\n",
       "    }\n",
       "\n",
       "    .dataframe tbody tr th {\n",
       "        vertical-align: top;\n",
       "    }\n",
       "\n",
       "    .dataframe thead th {\n",
       "        text-align: right;\n",
       "    }\n",
       "</style>\n",
       "<table border=\"1\" class=\"dataframe\">\n",
       "  <thead>\n",
       "    <tr style=\"text-align: right;\">\n",
       "      <th></th>\n",
       "      <th>count</th>\n",
       "      <th>mean</th>\n",
       "      <th>std</th>\n",
       "      <th>min</th>\n",
       "      <th>25%</th>\n",
       "      <th>50%</th>\n",
       "      <th>75%</th>\n",
       "      <th>max</th>\n",
       "    </tr>\n",
       "    <tr>\n",
       "      <th>room_type</th>\n",
       "      <th></th>\n",
       "      <th></th>\n",
       "      <th></th>\n",
       "      <th></th>\n",
       "      <th></th>\n",
       "      <th></th>\n",
       "      <th></th>\n",
       "      <th></th>\n",
       "    </tr>\n",
       "  </thead>\n",
       "  <tbody>\n",
       "    <tr>\n",
       "      <th>Entire home/apt</th>\n",
       "      <td>5433.0</td>\n",
       "      <td>23.991533</td>\n",
       "      <td>39.584150</td>\n",
       "      <td>0.0</td>\n",
       "      <td>1.0</td>\n",
       "      <td>8.0</td>\n",
       "      <td>29.00</td>\n",
       "      <td>427.0</td>\n",
       "    </tr>\n",
       "    <tr>\n",
       "      <th>Hotel room</th>\n",
       "      <td>129.0</td>\n",
       "      <td>8.682171</td>\n",
       "      <td>12.584703</td>\n",
       "      <td>0.0</td>\n",
       "      <td>1.0</td>\n",
       "      <td>4.0</td>\n",
       "      <td>10.00</td>\n",
       "      <td>63.0</td>\n",
       "    </tr>\n",
       "    <tr>\n",
       "      <th>Private room</th>\n",
       "      <td>2614.0</td>\n",
       "      <td>15.527544</td>\n",
       "      <td>32.646781</td>\n",
       "      <td>0.0</td>\n",
       "      <td>0.0</td>\n",
       "      <td>2.0</td>\n",
       "      <td>15.00</td>\n",
       "      <td>306.0</td>\n",
       "    </tr>\n",
       "    <tr>\n",
       "      <th>Shared room</th>\n",
       "      <td>230.0</td>\n",
       "      <td>4.891304</td>\n",
       "      <td>11.030779</td>\n",
       "      <td>0.0</td>\n",
       "      <td>0.0</td>\n",
       "      <td>1.0</td>\n",
       "      <td>3.75</td>\n",
       "      <td>96.0</td>\n",
       "    </tr>\n",
       "  </tbody>\n",
       "</table>\n",
       "</div>"
      ],
      "text/plain": [
       "                  count       mean        std  min  25%  50%    75%    max\n",
       "room_type                                                                 \n",
       "Entire home/apt  5433.0  23.991533  39.584150  0.0  1.0  8.0  29.00  427.0\n",
       "Hotel room        129.0   8.682171  12.584703  0.0  1.0  4.0  10.00   63.0\n",
       "Private room     2614.0  15.527544  32.646781  0.0  0.0  2.0  15.00  306.0\n",
       "Shared room       230.0   4.891304  11.030779  0.0  0.0  1.0   3.75   96.0"
      ]
     },
     "execution_count": 35,
     "metadata": {},
     "output_type": "execute_result"
    }
   ],
   "source": [
    "## Group by property type\n",
    "listings2.groupby(['room_type'])['number_of_reviews'].describe()"
   ]
  },
  {
   "cell_type": "code",
   "execution_count": 7,
   "metadata": {},
   "outputs": [
    {
     "data": {
      "text/plain": [
       "region_name\n",
       "Sliema               984\n",
       "San Giljan           942\n",
       "San Pawl il-Bahar    823\n",
       "Valletta             506\n",
       "Mellieha             423\n",
       "Gzira                359\n",
       "Swieqi               344\n",
       "Zebbug (Ghawdex)     315\n",
       "Msida                308\n",
       "Marsascala           264\n",
       "Name: number_of_reviews, dtype: int64"
      ]
     },
     "execution_count": 7,
     "metadata": {},
     "output_type": "execute_result"
    }
   ],
   "source": [
    "## Top neighbourhoods by number of reviews\n",
    "listings2.groupby(['region_name'])['number_of_reviews'].size().sort_values(ascending=False).head(10)"
   ]
  },
  {
   "cell_type": "code",
   "execution_count": 13,
   "metadata": {},
   "outputs": [
    {
     "name": "stdout",
     "output_type": "stream",
     "text": [
      "region_name\n",
      "Santa Lucija    4.930000\n",
      "Mqabba          4.925000\n",
      "Lija            4.923333\n",
      "Safi            4.912000\n",
      "Kirkop          4.903333\n",
      "Dingli          4.890000\n",
      "Mtarfa          4.885000\n",
      "Marsa           4.882500\n",
      "Xghajra         4.867333\n",
      "Mdina           4.839231\n",
      "Name: review_scores_rating, dtype: float64\n"
     ]
    }
   ],
   "source": [
    "## Top 10 neighbourhoods by average host score\n",
    "a = listings2.groupby(['region_name'])['review_scores_rating'].mean().sort_values(ascending=False).head(10)\n",
    "print(a)"
   ]
  },
  {
   "cell_type": "code",
   "execution_count": 68,
   "metadata": {},
   "outputs": [
    {
     "data": {
      "image/png": "[encoded data removed]",
      "text/plain": [
       "<Figure size 504x360 with 1 Axes>"
      ]
     },
     "metadata": {
      "needs_background": "light"
     },
     "output_type": "display_data"
    }
   ],
   "source": [
    "room_types_reviews = listings2.groupby(['room_type']).agg({'number_of_reviews': pd.Series.sum})\n",
    "#room_types_reviews = listings.groupby(['room_type']).size().sort_values(ascending=False)\n",
    "room_types_reviews = room_types_reviews.reset_index()\n",
    "room_types_reviews.sort_values(\"number_of_reviews\", ascending=False, inplace=True)\n",
    "#room_types_reviews.info()\n",
    "\n",
    "plt.figure(figsize=(7,5))\n",
    "p1 = sns.barplot(x = 'room_type', y = \"number_of_reviews\", data = room_types_reviews, palette=\"Blues_d\")\n"
   ]
  },
  {
   "cell_type": "code",
   "execution_count": 14,
   "metadata": {},
   "outputs": [
    {
     "name": "stderr",
     "output_type": "stream",
     "text": [
      "<ipython-input-14-4162d783c3fa>:8: SettingWithCopyWarning: \n",
      "A value is trying to be set on a copy of a slice from a DataFrame.\n",
      "Try using .loc[row_indexer,col_indexer] = value instead\n",
      "\n",
      "See the caveats in the documentation: https://pandas.pydata.org/pandas-docs/stable/user_guide/indexing.html#returning-a-view-versus-a-copy\n",
      "  df['bin_cut'] = pd.cut(df.price, bins=bins, labels = labels, include_lowest=True)\n"
     ]
    }
   ],
   "source": [
    "## Data binning - price\n",
    "# Price ranges (8$ - 4500$)\n",
    "\n",
    "## 1. Manually adjusting \n",
    "#bins = np.linspace(listings2.price.min(), listings2.price.max(), 3)\n",
    "labels = [1,2,3,4,5,6]\n",
    "#bins = [8, 100, 250, 500, 1000, 4500] ## initial vals.\n",
    "bins = [8, 50, 100, 300, 500, 1000, 4500]\n",
    "df = listings2\n",
    "df['bin_cut'] = pd.cut(df.price, bins=bins, labels = labels, include_lowest=True)\n"
   ]
  },
  {
   "cell_type": "code",
   "execution_count": 88,
   "metadata": {},
   "outputs": [
    {
     "data": {
      "image/png": "[encoded data removed]",
      "text/plain": [
       "<Figure size 432x288 with 1 Axes>"
      ]
     },
     "metadata": {
      "needs_background": "light"
     },
     "output_type": "display_data"
    }
   ],
   "source": [
    "#plt.hist(df['bin_cut'], bins =5)\n",
    "\n",
    "plt.hist(df['bin_cut'], bins=5, rwidth=0.9,\n",
    "                   color='#607c8e')\n",
    "plt.title('Histogram')\n",
    "plt.xlabel('Price bins')\n",
    "plt.ylabel('Listings')\n",
    "plt.grid(axis='y', alpha=0.75)\n",
    "plt.show()"
   ]
  },
  {
   "cell_type": "code",
   "execution_count": 27,
   "metadata": {},
   "outputs": [
    {
     "data": {
      "text/plain": [
       "2    3093\n",
       "1    2775\n",
       "3    2263\n",
       "4     178\n",
       "5      71\n",
       "6      26\n",
       "Name: bin_cut, dtype: int64"
      ]
     },
     "execution_count": 27,
     "metadata": {},
     "output_type": "execute_result"
    }
   ],
   "source": [
    "df.bin_cut.value_counts()"
   ]
  },
  {
   "cell_type": "code",
   "execution_count": null,
   "metadata": {},
   "outputs": [],
   "source": [
    "## Using np.linspace to compare bins\n",
    "# bins = np.linspace(listings2.price.min(), listings2.price.max(), 6)\n",
    "# bins"
   ]
  },
  {
   "cell_type": "code",
   "execution_count": null,
   "metadata": {},
   "outputs": [],
   "source": [
    "## Jenkspy method\n",
    "import jenkspy\n",
    "breaks = jenkspy.jenks_breaks(df['price'], nb_class=6)\n",
    "df['bin_cut_jenkspy'] = pd.cut(df['price'] , bins=breaks, labels=labels, include_lowest=True)\n",
    "df.bin_cut_jenkspy.value_counts()"
   ]
  },
  {
   "cell_type": "code",
   "execution_count": 29,
   "metadata": {},
   "outputs": [
    {
     "data": {
      "text/plain": [
       "bin_cut\n",
       "2    3093\n",
       "1    2775\n",
       "3    2263\n",
       "4     178\n",
       "5      71\n",
       "6      26\n",
       "Name: number_of_reviews, dtype: int64"
      ]
     },
     "execution_count": 29,
     "metadata": {},
     "output_type": "execute_result"
    }
   ],
   "source": [
    "## Number of reviews in these price intervals\n",
    "df.groupby(['bin_cut'])['number_of_reviews'].size().sort_values(ascending=False)\n",
    "\n",
    "# The highest number of reviews in 50$ - 100$ price range"
   ]
  },
  {
   "cell_type": "code",
   "execution_count": 36,
   "metadata": {},
   "outputs": [],
   "source": [
    "## nunique returns a series. agg returns a df\n",
    "reviews_check = reviews.groupby('listing_id').agg({'comments': pd.Series.nunique}) ##6428"
   ]
  },
  {
   "cell_type": "code",
   "execution_count": 33,
   "metadata": {},
   "outputs": [
    {
     "data": {
      "image/png": "[encoded data removed]",
      "text/plain": [
       "<Figure size 432x288 with 1 Axes>"
      ]
     },
     "metadata": {
      "needs_background": "light"
     },
     "output_type": "display_data"
    }
   ],
   "source": [
    "# Histogram - number of reviews\n",
    "#size, scale = 1000, 10\n",
    "reviews_check.plot.hist(grid=True, bins=20, rwidth=0.9,\n",
    "                   color='#607c8e')\n",
    "plt.title('Histogram - Number of reviews')\n",
    "plt.xlabel('Counts')\n",
    "plt.ylabel('Listings')\n",
    "plt.grid(axis='y', alpha=0.75)"
   ]
  },
  {
   "cell_type": "code",
   "execution_count": 37,
   "metadata": {},
   "outputs": [],
   "source": [
    "## Select listings with >= n reviews\n",
    "reviews_check = reviews_check[reviews_check.comments >=10] ##2349 listings with >=20 comments. 3409 with >= 10 comments."
   ]
  },
  {
   "cell_type": "code",
   "execution_count": 35,
   "metadata": {},
   "outputs": [
    {
     "data": {
      "image/png": "[encoded data removed]",
      "text/plain": [
       "<Figure size 432x288 with 1 Axes>"
      ]
     },
     "metadata": {
      "needs_background": "light"
     },
     "output_type": "display_data"
    }
   ],
   "source": [
    "# size, scale = 1000, 10\n",
    "reviews_check.plot.hist(grid=True, bins=20, rwidth=0.9,\n",
    "                   color='#607c8e')\n",
    "plt.title('Histogram - Number of reviews')\n",
    "plt.xlabel('Counts')\n",
    "plt.ylabel('Listings')\n",
    "plt.grid(axis='y', alpha=0.75)"
   ]
  },
  {
   "cell_type": "code",
   "execution_count": 39,
   "metadata": {},
   "outputs": [],
   "source": [
    "del reviews_check"
   ]
  },
  {
   "cell_type": "code",
   "execution_count": 38,
   "metadata": {},
   "outputs": [],
   "source": [
    "## Under 10 reviews dataframe - keep them in case I need them later\n",
    "under_10_reviews = listings2[listings2.number_of_reviews < 10] ## 4997"
   ]
  },
  {
   "cell_type": "code",
   "execution_count": 40,
   "metadata": {},
   "outputs": [],
   "source": [
    "## Keep listings with >= 10 reviews\n",
    "listings2 = listings2[listings2.number_of_reviews >= 10] ## 3409"
   ]
  },
  {
   "cell_type": "markdown",
   "metadata": {},
   "source": [
    "## Reviews analysis"
   ]
  },
  {
   "cell_type": "code",
   "execution_count": 41,
   "metadata": {},
   "outputs": [
    {
     "data": {
      "text/plain": [
       "\"Brilliant! While on vacation using Airbnb, I am looking for a clean comfortable room, good location and nice host. Stefania's triumphs in all three categories. Location can not be any better. It is 5-6 minutes walk of both sides of Sliema's water front; Sliema Ferry on one side is where all your bus and sea-bound tours start from (as well as the ferry to Valleta) and on the north side, border with San Julian, where there are even more eateries and night life. Rooms are large and spotlessly clean and bathrooms are newly remodeled. House is a typical local house tucked in a small, quiet residential area, that will remain quiet even in high tourism season (while being minutes away from the hassle and bustle). Upper floor provides the guest with total privacy and even their own small kitchen. Stefania is a gracious and superb host, and will sure take extremely good care of you. Highly recommended! Thanks Stefania for superb hospitality.\""
      ]
     },
     "execution_count": 41,
     "metadata": {},
     "output_type": "execute_result"
    }
   ],
   "source": [
    "## Take a look at reviews\n",
    "reviews.comments.values[5]"
   ]
  },
  {
   "cell_type": "code",
   "execution_count": 45,
   "metadata": {},
   "outputs": [
    {
     "name": "stdout",
     "output_type": "stream",
     "text": [
      "946\n"
     ]
    }
   ],
   "source": [
    "print(len(reviews.comments.values[5])) ## 946 words"
   ]
  },
  {
   "cell_type": "code",
   "execution_count": 42,
   "metadata": {},
   "outputs": [],
   "source": [
    "## Convert comments to string\n",
    "reviews['comments'] = reviews['comments'].astype('string') "
   ]
  },
  {
   "cell_type": "code",
   "execution_count": 44,
   "metadata": {},
   "outputs": [],
   "source": [
    "## Rename id to listing_id\n",
    "listings2 = listings2.rename(columns={'id' : 'listing_id'})\n",
    "\n",
    "## Merge listings2 data frame with reviews table\n",
    "listings3 = pd.merge(listings2, reviews, how = 'left', on = \"listing_id\", suffixes=('', '_y')) "
   ]
  },
  {
   "cell_type": "code",
   "execution_count": 45,
   "metadata": {},
   "outputs": [
    {
     "data": {
      "text/html": [
       "<div>\n",
       "<style scoped>\n",
       "    .dataframe tbody tr th:only-of-type {\n",
       "        vertical-align: middle;\n",
       "    }\n",
       "\n",
       "    .dataframe tbody tr th {\n",
       "        vertical-align: top;\n",
       "    }\n",
       "\n",
       "    .dataframe thead th {\n",
       "        text-align: right;\n",
       "    }\n",
       "</style>\n",
       "<table border=\"1\" class=\"dataframe\">\n",
       "  <thead>\n",
       "    <tr style=\"text-align: right;\">\n",
       "      <th></th>\n",
       "      <th>reviews_number</th>\n",
       "    </tr>\n",
       "    <tr>\n",
       "      <th>host_id</th>\n",
       "      <th></th>\n",
       "    </tr>\n",
       "  </thead>\n",
       "  <tbody>\n",
       "    <tr>\n",
       "      <th>14163414</th>\n",
       "      <td>1543</td>\n",
       "    </tr>\n",
       "    <tr>\n",
       "      <th>3585451</th>\n",
       "      <td>1250</td>\n",
       "    </tr>\n",
       "    <tr>\n",
       "      <th>4214727</th>\n",
       "      <td>1235</td>\n",
       "    </tr>\n",
       "    <tr>\n",
       "      <th>577652</th>\n",
       "      <td>1210</td>\n",
       "    </tr>\n",
       "    <tr>\n",
       "      <th>2442805</th>\n",
       "      <td>1058</td>\n",
       "    </tr>\n",
       "    <tr>\n",
       "      <th>16573646</th>\n",
       "      <td>1048</td>\n",
       "    </tr>\n",
       "    <tr>\n",
       "      <th>1351697</th>\n",
       "      <td>891</td>\n",
       "    </tr>\n",
       "    <tr>\n",
       "      <th>219295979</th>\n",
       "      <td>869</td>\n",
       "    </tr>\n",
       "    <tr>\n",
       "      <th>1218900</th>\n",
       "      <td>867</td>\n",
       "    </tr>\n",
       "    <tr>\n",
       "      <th>28733688</th>\n",
       "      <td>806</td>\n",
       "    </tr>\n",
       "  </tbody>\n",
       "</table>\n",
       "</div>"
      ],
      "text/plain": [
       "           reviews_number\n",
       "host_id                  \n",
       "14163414             1543\n",
       "3585451              1250\n",
       "4214727              1235\n",
       "577652               1210\n",
       "2442805              1058\n",
       "16573646             1048\n",
       "1351697               891\n",
       "219295979             869\n",
       "1218900               867\n",
       "28733688              806"
      ]
     },
     "execution_count": 45,
     "metadata": {},
     "output_type": "execute_result"
    }
   ],
   "source": [
    "## Top 10 hosts from Malta based on number of reviews\n",
    "top_10_hosts = listings3.groupby('host_id').size().sort_values(ascending = False).to_frame(name = 'reviews_number').head(10)\n",
    "top_10_hosts"
   ]
  },
  {
   "cell_type": "code",
   "execution_count": 10,
   "metadata": {},
   "outputs": [],
   "source": [
    "## Data preparation - comments column\n",
    "\n",
    "#1. Remove empty comments #173180 obs. initially\n",
    "reviews = reviews[reviews['comments'].notnull()]\n",
    "\n",
    "#2. Convert to lower case\n",
    "reviews['comments'] = reviews['comments'].str.lower()\n",
    "\n",
    "#3. Remove numbers\n",
    "reviews['comments'] = reviews['comments'].str.replace('\\d+', '')\n",
    "\n",
    "# reviews['comments'] = reviews['comments'].str.rstrip(string.digits)\n",
    "\n",
    "## 4. Remove punctuation (regex method)\n",
    "reviews.comments = reviews.comments.str.replace(\"[^\\w\\s]\", \"\")\n",
    "\n",
    "## 5. Replace double spaces with single space\n",
    "reviews.comments = reviews.comments.str.replace('\\s+', ' ')"
   ]
  },
  {
   "cell_type": "code",
   "execution_count": 16,
   "metadata": {},
   "outputs": [
    {
     "name": "stderr",
     "output_type": "stream",
     "text": [
      "[nltk_data] Downloading package stopwords to\n",
      "[nltk_data]     /Users/dianaionascu/nltk_data...\n",
      "[nltk_data]   Package stopwords is already up-to-date!\n"
     ]
    },
    {
     "data": {
      "text/plain": [
       "True"
      ]
     },
     "execution_count": 16,
     "metadata": {},
     "output_type": "execute_result"
    }
   ],
   "source": [
    "nltk.download('stopwords')\n",
    "from nltk.corpus import stopwords\n",
    "\n",
    "## List of stopwords\n",
    "stopwords = stopwords.words(\"english\")\n",
    "print(stopwords)"
   ]
  },
  {
   "cell_type": "code",
   "execution_count": 25,
   "metadata": {},
   "outputs": [],
   "source": [
    "## Use nltk library to remove unecessary information\n",
    "#stopwords = stopwords.words[\"english\"]\n",
    "reviews.comments = reviews.comments.apply(lambda x: \" \".join([i for i in x.split()\n",
    "                                            if i not in (stopwords)]))"
   ]
  },
  {
   "cell_type": "code",
   "execution_count": null,
   "metadata": {},
   "outputs": [],
   "source": []
  },
  {
   "cell_type": "code",
   "execution_count": null,
   "metadata": {},
   "outputs": [],
   "source": []
  },
  {
   "cell_type": "code",
   "execution_count": null,
   "metadata": {},
   "outputs": [],
   "source": []
  },
  {
   "cell_type": "code",
   "execution_count": 11,
   "metadata": {},
   "outputs": [
    {
     "name": "stderr",
     "output_type": "stream",
     "text": [
      "[nltk_data] Downloading package punkt to\n",
      "[nltk_data]     /Users/dianaionascu/nltk_data...\n",
      "[nltk_data]   Package punkt is already up-to-date!\n"
     ]
    },
    {
     "data": {
      "text/plain": [
       "True"
      ]
     },
     "execution_count": 11,
     "metadata": {},
     "output_type": "execute_result"
    }
   ],
   "source": [
    "import nltk\n",
    "from nltk import sent_tokenize\n",
    "nltk.download('punkt')"
   ]
  },
  {
   "cell_type": "code",
   "execution_count": 46,
   "metadata": {},
   "outputs": [],
   "source": [
    "sentences = sent_tokenize(reviews.comments[5])"
   ]
  },
  {
   "cell_type": "code",
   "execution_count": 47,
   "metadata": {},
   "outputs": [
    {
     "name": "stdout",
     "output_type": "stream",
     "text": [
      "11\n"
     ]
    },
    {
     "data": {
      "text/plain": [
       "['Brilliant!',\n",
       " 'While on vacation using Airbnb, I am looking for a clean comfortable room, good location and nice host.',\n",
       " \"Stefania's triumphs in all three categories.\",\n",
       " 'Location can not be any better.',\n",
       " \"It is 5-6 minutes walk of both sides of Sliema's water front; Sliema Ferry on one side is where all your bus and sea-bound tours start from (as well as the ferry to Valleta) and on the north side, border with San Julian, where there are even more eateries and night life.\",\n",
       " 'Rooms are large and spotlessly clean and bathrooms are newly remodeled.',\n",
       " 'House is a typical local house tucked in a small, quiet residential area, that will remain quiet even in high tourism season (while being minutes away from the hassle and bustle).',\n",
       " 'Upper floor provides the guest with total privacy and even their own small kitchen.',\n",
       " 'Stefania is a gracious and superb host, and will sure take extremely good care of you.',\n",
       " 'Highly recommended!',\n",
       " 'Thanks Stefania for superb hospitality.']"
      ]
     },
     "execution_count": 47,
     "metadata": {},
     "output_type": "execute_result"
    }
   ],
   "source": [
    "print(len(sentences))\n",
    "sentences"
   ]
  },
  {
   "cell_type": "code",
   "execution_count": 49,
   "metadata": {},
   "outputs": [
    {
     "name": "stdout",
     "output_type": "stream",
     "text": [
      "187\n"
     ]
    },
    {
     "data": {
      "text/plain": [
       "['Brilliant',\n",
       " '!',\n",
       " 'While',\n",
       " 'on',\n",
       " 'vacation',\n",
       " 'using',\n",
       " 'Airbnb',\n",
       " ',',\n",
       " 'I',\n",
       " 'am',\n",
       " 'looking',\n",
       " 'for',\n",
       " 'a',\n",
       " 'clean',\n",
       " 'comfortable',\n",
       " 'room',\n",
       " ',',\n",
       " 'good',\n",
       " 'location',\n",
       " 'and',\n",
       " 'nice',\n",
       " 'host',\n",
       " '.',\n",
       " 'Stefania',\n",
       " \"'s\",\n",
       " 'triumphs',\n",
       " 'in',\n",
       " 'all',\n",
       " 'three',\n",
       " 'categories',\n",
       " '.',\n",
       " 'Location',\n",
       " 'can',\n",
       " 'not',\n",
       " 'be',\n",
       " 'any',\n",
       " 'better',\n",
       " '.',\n",
       " 'It',\n",
       " 'is',\n",
       " '5-6',\n",
       " 'minutes',\n",
       " 'walk',\n",
       " 'of',\n",
       " 'both',\n",
       " 'sides',\n",
       " 'of',\n",
       " 'Sliema',\n",
       " \"'s\",\n",
       " 'water',\n",
       " 'front',\n",
       " ';',\n",
       " 'Sliema',\n",
       " 'Ferry',\n",
       " 'on',\n",
       " 'one',\n",
       " 'side',\n",
       " 'is',\n",
       " 'where',\n",
       " 'all',\n",
       " 'your',\n",
       " 'bus',\n",
       " 'and',\n",
       " 'sea-bound',\n",
       " 'tours',\n",
       " 'start',\n",
       " 'from',\n",
       " '(',\n",
       " 'as',\n",
       " 'well',\n",
       " 'as',\n",
       " 'the',\n",
       " 'ferry',\n",
       " 'to',\n",
       " 'Valleta',\n",
       " ')',\n",
       " 'and',\n",
       " 'on',\n",
       " 'the',\n",
       " 'north',\n",
       " 'side',\n",
       " ',',\n",
       " 'border',\n",
       " 'with',\n",
       " 'San',\n",
       " 'Julian',\n",
       " ',',\n",
       " 'where',\n",
       " 'there',\n",
       " 'are',\n",
       " 'even',\n",
       " 'more',\n",
       " 'eateries',\n",
       " 'and',\n",
       " 'night',\n",
       " 'life',\n",
       " '.',\n",
       " 'Rooms',\n",
       " 'are',\n",
       " 'large',\n",
       " 'and',\n",
       " 'spotlessly',\n",
       " 'clean',\n",
       " 'and',\n",
       " 'bathrooms',\n",
       " 'are',\n",
       " 'newly',\n",
       " 'remodeled',\n",
       " '.',\n",
       " 'House',\n",
       " 'is',\n",
       " 'a',\n",
       " 'typical',\n",
       " 'local',\n",
       " 'house',\n",
       " 'tucked',\n",
       " 'in',\n",
       " 'a',\n",
       " 'small',\n",
       " ',',\n",
       " 'quiet',\n",
       " 'residential',\n",
       " 'area',\n",
       " ',',\n",
       " 'that',\n",
       " 'will',\n",
       " 'remain',\n",
       " 'quiet',\n",
       " 'even',\n",
       " 'in',\n",
       " 'high',\n",
       " 'tourism',\n",
       " 'season',\n",
       " '(',\n",
       " 'while',\n",
       " 'being',\n",
       " 'minutes',\n",
       " 'away',\n",
       " 'from',\n",
       " 'the',\n",
       " 'hassle',\n",
       " 'and',\n",
       " 'bustle',\n",
       " ')',\n",
       " '.',\n",
       " 'Upper',\n",
       " 'floor',\n",
       " 'provides',\n",
       " 'the',\n",
       " 'guest',\n",
       " 'with',\n",
       " 'total',\n",
       " 'privacy',\n",
       " 'and',\n",
       " 'even',\n",
       " 'their',\n",
       " 'own',\n",
       " 'small',\n",
       " 'kitchen',\n",
       " '.',\n",
       " 'Stefania',\n",
       " 'is',\n",
       " 'a',\n",
       " 'gracious',\n",
       " 'and',\n",
       " 'superb',\n",
       " 'host',\n",
       " ',',\n",
       " 'and',\n",
       " 'will',\n",
       " 'sure',\n",
       " 'take',\n",
       " 'extremely',\n",
       " 'good',\n",
       " 'care',\n",
       " 'of',\n",
       " 'you',\n",
       " '.',\n",
       " 'Highly',\n",
       " 'recommended',\n",
       " '!',\n",
       " 'Thanks',\n",
       " 'Stefania',\n",
       " 'for',\n",
       " 'superb',\n",
       " 'hospitality',\n",
       " '.']"
      ]
     },
     "execution_count": 49,
     "metadata": {},
     "output_type": "execute_result"
    }
   ],
   "source": [
    "## Word tokenizing - transform the text into words\n",
    "df_comment = reviews.comments[5]\n",
    "words = word_tokenize(df_comment)\n",
    "\n",
    "print(len(words)) \n",
    "words #187\n"
   ]
  },
  {
   "cell_type": "code",
   "execution_count": 50,
   "metadata": {},
   "outputs": [
    {
     "data": {
      "text/plain": [
       "[('and', 10),\n",
       " ('.', 9),\n",
       " (',', 7),\n",
       " ('a', 4),\n",
       " ('is', 4),\n",
       " ('the', 4),\n",
       " ('on', 3),\n",
       " ('Stefania', 3),\n",
       " ('in', 3),\n",
       " ('of', 3)]"
      ]
     },
     "execution_count": 50,
     "metadata": {},
     "output_type": "execute_result"
    }
   ],
   "source": [
    "from nltk.probability import FreqDist\n",
    "\n",
    "## Let's find the frequency\n",
    "freq_words = FreqDist(words)\n",
    "\n",
    "## Top 10 words\n",
    "freq_words.most_common(10) ## a lot of punctuation marks and stop words."
   ]
  },
  {
   "cell_type": "code",
   "execution_count": 51,
   "metadata": {},
   "outputs": [
    {
     "data": {
      "image/png": "[encoded data removed]",
      "text/plain": [
       "<Figure size 432x288 with 1 Axes>"
      ]
     },
     "metadata": {
      "needs_background": "light"
     },
     "output_type": "display_data"
    },
    {
     "data": {
      "text/plain": [
       "<AxesSubplot:xlabel='Samples', ylabel='Counts'>"
      ]
     },
     "execution_count": 51,
     "metadata": {},
     "output_type": "execute_result"
    }
   ],
   "source": [
    "## Plot the word frequency\n",
    "\n",
    "freq_words.plot(10)"
   ]
  },
  {
   "cell_type": "code",
   "execution_count": 52,
   "metadata": {},
   "outputs": [
    {
     "name": "stdout",
     "output_type": "stream",
     "text": [
      "['brilliant', 'while', 'on', 'vacation', 'using', 'airbnb', 'i', 'am', 'looking', 'for', 'a', 'clean', 'comfortable', 'room', 'good', 'location', 'and', 'nice', 'host', 'stefania', 'triumphs', 'in', 'all', 'three', 'categories', 'location', 'can', 'not', 'be', 'any', 'better', 'it', 'is', 'minutes', 'walk', 'of', 'both', 'sides', 'of', 'sliema', 'water', 'front', 'sliema', 'ferry', 'on', 'one', 'side', 'is', 'where', 'all', 'your', 'bus', 'and', 'tours', 'start', 'from', 'as', 'well', 'as', 'the', 'ferry', 'to', 'valleta', 'and', 'on', 'the', 'north', 'side', 'border', 'with', 'san', 'julian', 'where', 'there', 'are', 'even', 'more', 'eateries', 'and', 'night', 'life', 'rooms', 'are', 'large', 'and', 'spotlessly', 'clean', 'and', 'bathrooms', 'are', 'newly', 'remodeled', 'house', 'is', 'a', 'typical', 'local', 'house', 'tucked', 'in', 'a', 'small', 'quiet', 'residential', 'area', 'that', 'will', 'remain', 'quiet', 'even', 'in', 'high', 'tourism', 'season', 'while', 'being', 'minutes', 'away', 'from', 'the', 'hassle', 'and', 'bustle', 'upper', 'floor', 'provides', 'the', 'guest', 'with', 'total', 'privacy', 'and', 'even', 'their', 'own', 'small', 'kitchen', 'stefania', 'is', 'a', 'gracious', 'and', 'superb', 'host', 'and', 'will', 'sure', 'take', 'extremely', 'good', 'care', 'of', 'you', 'highly', 'recommended', 'thanks', 'stefania', 'for', 'superb', 'hospitality']\n",
      "\n",
      "\n",
      "160\n"
     ]
    }
   ],
   "source": [
    "## Remove punctuation marks\n",
    "words_no_punct = []\n",
    "\n",
    "for w in words:\n",
    "    if w.isalpha():\n",
    "        words_no_punct.append(w.lower())\n",
    "\n",
    "print(words_no_punct)\n",
    "print(\"\\n\")\n",
    "print(len(words_no_punct)) ## 160!"
   ]
  },
  {
   "cell_type": "code",
   "execution_count": 53,
   "metadata": {},
   "outputs": [
    {
     "data": {
      "text/plain": [
       "[('and', 10),\n",
       " ('a', 4),\n",
       " ('is', 4),\n",
       " ('the', 4),\n",
       " ('on', 3),\n",
       " ('stefania', 3),\n",
       " ('in', 3),\n",
       " ('of', 3),\n",
       " ('are', 3),\n",
       " ('even', 3)]"
      ]
     },
     "execution_count": 53,
     "metadata": {},
     "output_type": "execute_result"
    }
   ],
   "source": [
    "freq_words = FreqDist(words_no_punct)\n",
    "freq_words.most_common(10)"
   ]
  },
  {
   "cell_type": "code",
   "execution_count": 59,
   "metadata": {},
   "outputs": [
    {
     "name": "stdout",
     "output_type": "stream",
     "text": [
      "['brilliant', 'vacation', 'using', 'airbnb', 'looking', 'clean', 'comfortable', 'room', 'good', 'location', 'nice', 'host', 'stefania', 'triumphs', 'three', 'categories', 'location', 'better', 'minutes', 'walk', 'sides', 'sliema', 'water', 'front', 'sliema', 'ferry', 'one', 'side', 'bus', 'tours', 'start', 'well', 'ferry', 'valleta', 'north', 'side', 'border', 'san', 'julian', 'even', 'eateries', 'night', 'life', 'rooms', 'large', 'spotlessly', 'clean', 'bathrooms', 'newly', 'remodeled', 'house', 'typical', 'local', 'house', 'tucked', 'small', 'quiet', 'residential', 'area', 'remain', 'quiet', 'even', 'high', 'tourism', 'season', 'minutes', 'away', 'hassle', 'bustle', 'upper', 'floor', 'provides', 'guest', 'total', 'privacy', 'even', 'small', 'kitchen', 'stefania', 'gracious', 'superb', 'host', 'sure', 'take', 'extremely', 'good', 'care', 'highly', 'recommended', 'thanks', 'stefania', 'superb', 'hospitality']\n",
      "\n",
      "\n",
      "93\n"
     ]
    }
   ],
   "source": [
    "## Remove stopwords\n",
    "clean_words = []\n",
    "for w in words_no_punct:\n",
    "    if w not in stopwords:\n",
    "        clean_words.append(w)\n",
    "\n",
    "print(clean_words)\n",
    "print(\"\\n\") ## 93 words\n",
    "print(len(clean_words))"
   ]
  },
  {
   "cell_type": "code",
   "execution_count": 60,
   "metadata": {},
   "outputs": [
    {
     "data": {
      "text/plain": [
       "[('stefania', 3),\n",
       " ('even', 3),\n",
       " ('clean', 2),\n",
       " ('good', 2),\n",
       " ('location', 2),\n",
       " ('host', 2),\n",
       " ('minutes', 2),\n",
       " ('sliema', 2),\n",
       " ('ferry', 2),\n",
       " ('side', 2)]"
      ]
     },
     "execution_count": 60,
     "metadata": {},
     "output_type": "execute_result"
    }
   ],
   "source": [
    "## Words frequency now:\n",
    "freq_words = FreqDist(clean_words)\n",
    "freq_words.most_common(10)\n"
   ]
  },
  {
   "cell_type": "code",
   "execution_count": 12,
   "metadata": {},
   "outputs": [],
   "source": [
    "bckUp = reviews"
   ]
  },
  {
   "cell_type": "code",
   "execution_count": 21,
   "metadata": {},
   "outputs": [
    {
     "name": "stderr",
     "output_type": "stream",
     "text": [
      "/Library/Frameworks/Python.framework/Versions/3.9/lib/python3.9/site-packages/pandas/core/generic.py:5494: SettingWithCopyWarning: \n",
      "A value is trying to be set on a copy of a slice from a DataFrame.\n",
      "Try using .loc[row_indexer,col_indexer] = value instead\n",
      "\n",
      "See the caveats in the documentation: https://pandas.pydata.org/pandas-docs/stable/user_guide/indexing.html#returning-a-view-versus-a-copy\n",
      "  self[name] = value\n"
     ]
    }
   ],
   "source": []
  },
  {
   "cell_type": "code",
   "execution_count": 23,
   "metadata": {},
   "outputs": [
    {
     "name": "stderr",
     "output_type": "stream",
     "text": [
      "<ipython-input-23-df6bb98c7a22>:1: SettingWithCopyWarning: \n",
      "A value is trying to be set on a copy of a slice from a DataFrame.\n",
      "Try using .loc[row_indexer,col_indexer] = value instead\n",
      "\n",
      "See the caveats in the documentation: https://pandas.pydata.org/pandas-docs/stable/user_guide/indexing.html#returning-a-view-versus-a-copy\n",
      "  reviews['comments'] = reviews['comments'].apply(lambda x: \" \".join([i for i in x.split()\n"
     ]
    }
   ],
   "source": [
    "# reviews['comments'] = reviews['comments'].apply(lambda x: \" \".join([i for i in x.split() \n",
    "#                                                       if i not in (stopwords)]))"
   ]
  },
  {
   "cell_type": "code",
   "execution_count": 22,
   "metadata": {},
   "outputs": [
    {
     "data": {
      "text/plain": [
       "'brilliant vacation using airbnb looking clean comfortable room good location nice host stefanias triumphs three categories location better minutes walk sides sliemas water front sliema ferry one side bus seabound tours start well ferry valleta north side border san julian even eateries night life rooms large spotlessly clean bathrooms newly remodeled house typical local house tucked small quiet residential area remain quiet even high tourism season minutes away hassle bustle upper floor provides guest total privacy even small kitchen stefania gracious superb host sure take extremely good care highly recommended thanks stefania superb hospitality'"
      ]
     },
     "execution_count": 22,
     "metadata": {},
     "output_type": "execute_result"
    }
   ],
   "source": [
    "reviews.comments[5]"
   ]
  },
  {
   "cell_type": "code",
   "execution_count": 29,
   "metadata": {},
   "outputs": [
    {
     "data": {
      "text/plain": [
       "[('host canceled reservation days arrival automated posting', 1058),\n",
       " ('', 350),\n",
       " ('good', 161),\n",
       " ('perfect', 142),\n",
       " ('great', 128),\n",
       " ('great place', 119),\n",
       " ('nice place', 118),\n",
       " ('great location', 81),\n",
       " ('nice', 75),\n",
       " ('ok', 67)]"
      ]
     },
     "execution_count": 29,
     "metadata": {},
     "output_type": "execute_result"
    }
   ],
   "source": [
    "## Words frequency\n",
    "freq_words = FreqDist(reviews.comments)\n",
    "freq_words.most_common(10)"
   ]
  },
  {
   "cell_type": "code",
   "execution_count": 30,
   "metadata": {},
   "outputs": [
    {
     "data": {
      "text/html": [
       "<div>\n",
       "<style scoped>\n",
       "    .dataframe tbody tr th:only-of-type {\n",
       "        vertical-align: middle;\n",
       "    }\n",
       "\n",
       "    .dataframe tbody tr th {\n",
       "        vertical-align: top;\n",
       "    }\n",
       "\n",
       "    .dataframe thead th {\n",
       "        text-align: right;\n",
       "    }\n",
       "</style>\n",
       "<table border=\"1\" class=\"dataframe\">\n",
       "  <thead>\n",
       "    <tr style=\"text-align: right;\">\n",
       "      <th></th>\n",
       "      <th>words</th>\n",
       "      <th>counts</th>\n",
       "    </tr>\n",
       "  </thead>\n",
       "  <tbody>\n",
       "    <tr>\n",
       "      <th>846</th>\n",
       "      <td>apartment</td>\n",
       "      <td>68343</td>\n",
       "    </tr>\n",
       "    <tr>\n",
       "      <th>35</th>\n",
       "      <td>great</td>\n",
       "      <td>66803</td>\n",
       "    </tr>\n",
       "    <tr>\n",
       "      <th>52</th>\n",
       "      <td>place</td>\n",
       "      <td>56453</td>\n",
       "    </tr>\n",
       "    <tr>\n",
       "      <th>0</th>\n",
       "      <td>stay</td>\n",
       "      <td>54290</td>\n",
       "    </tr>\n",
       "    <tr>\n",
       "      <th>813</th>\n",
       "      <td>de</td>\n",
       "      <td>47272</td>\n",
       "    </tr>\n",
       "    <tr>\n",
       "      <th>13</th>\n",
       "      <td>location</td>\n",
       "      <td>43135</td>\n",
       "    </tr>\n",
       "    <tr>\n",
       "      <th>31</th>\n",
       "      <td>us</td>\n",
       "      <td>42126</td>\n",
       "    </tr>\n",
       "    <tr>\n",
       "      <th>103</th>\n",
       "      <td>nice</td>\n",
       "      <td>40517</td>\n",
       "    </tr>\n",
       "    <tr>\n",
       "      <th>746</th>\n",
       "      <td>et</td>\n",
       "      <td>37771</td>\n",
       "    </tr>\n",
       "    <tr>\n",
       "      <th>143</th>\n",
       "      <td>clean</td>\n",
       "      <td>37076</td>\n",
       "    </tr>\n",
       "  </tbody>\n",
       "</table>\n",
       "</div>"
      ],
      "text/plain": [
       "         words  counts\n",
       "846  apartment   68343\n",
       "35       great   66803\n",
       "52       place   56453\n",
       "0         stay   54290\n",
       "813         de   47272\n",
       "13    location   43135\n",
       "31          us   42126\n",
       "103       nice   40517\n",
       "746         et   37771\n",
       "143      clean   37076"
      ]
     },
     "execution_count": 30,
     "metadata": {},
     "output_type": "execute_result"
    }
   ],
   "source": [
    "## Let's make it look nicer\n",
    "feedback = reviews.comments.to_list()\n",
    "\n",
    "vec = CountVectorizer().fit(feedback)\n",
    "bag_of_words = vec.transform(feedback)\n",
    "sum_words = bag_of_words.sum(axis=0)\n",
    "words_freq = [(word, sum_words[0, idx]) for word, idx in vec.vocabulary_.items()]\n",
    "\n",
    "\n",
    "cvec_df = pd.DataFrame.from_records(words_freq, columns= ['words', 'counts']).sort_values(by=\"counts\", ascending=False)\n",
    "cvec_df.head(10)"
   ]
  },
  {
   "cell_type": "code",
   "execution_count": 33,
   "metadata": {},
   "outputs": [
    {
     "name": "stdout",
     "output_type": "stream",
     "text": [
      "Most common positive words: [('host canceled reservation days arrival automated posting', 1058), ('', 350), ('good', 161), ('perfect', 142), ('great', 128), ('great place', 119), ('nice place', 118), ('great location', 81), ('nice', 75), ('ok', 67)]\n"
     ]
    }
   ],
   "source": [
    "import collections\n",
    "\n",
    "words_freq2 = collections.Counter(feedback)\n",
    "print(\"Most common positive words:\", words_freq2.most_common(10))"
   ]
  },
  {
   "cell_type": "code",
   "execution_count": 34,
   "metadata": {},
   "outputs": [
    {
     "name": "stdout",
     "output_type": "stream",
     "text": [
      "                                                Word  Frequency\n",
      "0  host canceled reservation days arrival automat...       1058\n",
      "1                                                           350\n",
      "2                                               good        161\n",
      "3                                            perfect        142\n",
      "4                                              great        128\n",
      "5                                        great place        119\n",
      "6                                         nice place        118\n",
      "7                                     great location         81\n",
      "8                                               nice         75\n",
      "9                                                 ok         67\n"
     ]
    }
   ],
   "source": [
    "freq_words_df = pd.DataFrame(words_freq2.most_common(10),\n",
    "                                     columns=[\"Word\", \"Frequency\"])\n",
    "print(freq_words_df)"
   ]
  },
  {
   "cell_type": "code",
   "execution_count": 37,
   "metadata": {},
   "outputs": [
    {
     "name": "stdout",
     "output_type": "stream",
     "text": [
      "[('host canceled reservation days arrival automated posting', 1058), ('', 350), ('good', 161), ('perfect', 142), ('great', 128), ('great place', 119), ('nice place', 118), ('great location', 81), ('nice', 75), ('ok', 67)]\n"
     ]
    }
   ],
   "source": [
    "text = nltk.Text(feedback)\n",
    "frequency = FreqDist(text)\n",
    "print(frequency.most_common(10))"
   ]
  },
  {
   "cell_type": "code",
   "execution_count": 26,
   "metadata": {},
   "outputs": [
    {
     "name": "stdout",
     "output_type": "stream",
     "text": [
      "[('apartment', 68343), ('great', 66803), ('place', 56453), ('stay', 54290), ('de', 47272), ('location', 43135), ('us', 42126), ('nice', 40517), ('et', 37771), ('clean', 37076)]\n"
     ]
    }
   ],
   "source": [
    "feedback = reviews.comments.to_list()\n",
    "feedback2 = ' '.join(feedback) ##convert list into string\n",
    "tokens = nltk.word_tokenize(feedback2) ## tokenize the string\n",
    "frequency = FreqDist(tokens)\n",
    "print(frequency.most_common(10))"
   ]
  },
  {
   "cell_type": "code",
   "execution_count": 28,
   "metadata": {},
   "outputs": [
    {
     "data": {
      "text/html": [
       "<div>\n",
       "<style scoped>\n",
       "    .dataframe tbody tr th:only-of-type {\n",
       "        vertical-align: middle;\n",
       "    }\n",
       "\n",
       "    .dataframe tbody tr th {\n",
       "        vertical-align: top;\n",
       "    }\n",
       "\n",
       "    .dataframe thead th {\n",
       "        text-align: right;\n",
       "    }\n",
       "</style>\n",
       "<table border=\"1\" class=\"dataframe\">\n",
       "  <thead>\n",
       "    <tr style=\"text-align: right;\">\n",
       "      <th></th>\n",
       "      <th>Word</th>\n",
       "      <th>Frequency</th>\n",
       "    </tr>\n",
       "  </thead>\n",
       "  <tbody>\n",
       "    <tr>\n",
       "      <th>0</th>\n",
       "      <td>apartment</td>\n",
       "      <td>68343</td>\n",
       "    </tr>\n",
       "    <tr>\n",
       "      <th>1</th>\n",
       "      <td>great</td>\n",
       "      <td>66803</td>\n",
       "    </tr>\n",
       "    <tr>\n",
       "      <th>2</th>\n",
       "      <td>place</td>\n",
       "      <td>56453</td>\n",
       "    </tr>\n",
       "    <tr>\n",
       "      <th>3</th>\n",
       "      <td>stay</td>\n",
       "      <td>54290</td>\n",
       "    </tr>\n",
       "    <tr>\n",
       "      <th>4</th>\n",
       "      <td>de</td>\n",
       "      <td>47272</td>\n",
       "    </tr>\n",
       "    <tr>\n",
       "      <th>5</th>\n",
       "      <td>location</td>\n",
       "      <td>43135</td>\n",
       "    </tr>\n",
       "    <tr>\n",
       "      <th>6</th>\n",
       "      <td>us</td>\n",
       "      <td>42126</td>\n",
       "    </tr>\n",
       "    <tr>\n",
       "      <th>7</th>\n",
       "      <td>nice</td>\n",
       "      <td>40517</td>\n",
       "    </tr>\n",
       "    <tr>\n",
       "      <th>8</th>\n",
       "      <td>et</td>\n",
       "      <td>37771</td>\n",
       "    </tr>\n",
       "    <tr>\n",
       "      <th>9</th>\n",
       "      <td>clean</td>\n",
       "      <td>37076</td>\n",
       "    </tr>\n",
       "  </tbody>\n",
       "</table>\n",
       "</div>"
      ],
      "text/plain": [
       "        Word  Frequency\n",
       "0  apartment      68343\n",
       "1      great      66803\n",
       "2      place      56453\n",
       "3       stay      54290\n",
       "4         de      47272\n",
       "5   location      43135\n",
       "6         us      42126\n",
       "7       nice      40517\n",
       "8         et      37771\n",
       "9      clean      37076"
      ]
     },
     "execution_count": 28,
     "metadata": {},
     "output_type": "execute_result"
    }
   ],
   "source": [
    "freq_words_df = pd.DataFrame(frequency.most_common(10),\n",
    "                                     columns=[\"Word\", \"Frequency\"])\n",
    "freq_words_df"
   ]
  },
  {
   "cell_type": "code",
   "execution_count": null,
   "metadata": {},
   "outputs": [],
   "source": [
    "## Plot\n",
    "top_10 = frequency.most_common(10)\n",
    "top_10 = pd.Series(dict(frequency))\n",
    "fig, ax =plt.subplots(figsize = (10,10))\n",
    "\n",
    "## Seaborn\n",
    "plot_fig = sns.barplot(x = top_10.index, y = top_10.values, ax=ax)\n",
    "plt.xticks(rotation=30)"
   ]
  },
  {
   "cell_type": "code",
   "execution_count": 29,
   "metadata": {},
   "outputs": [
    {
     "data": {
      "text/html": [
       "<div>\n",
       "<style scoped>\n",
       "    .dataframe tbody tr th:only-of-type {\n",
       "        vertical-align: middle;\n",
       "    }\n",
       "\n",
       "    .dataframe tbody tr th {\n",
       "        vertical-align: top;\n",
       "    }\n",
       "\n",
       "    .dataframe thead th {\n",
       "        text-align: right;\n",
       "    }\n",
       "</style>\n",
       "<table border=\"1\" class=\"dataframe\">\n",
       "  <thead>\n",
       "    <tr style=\"text-align: right;\">\n",
       "      <th></th>\n",
       "      <th>reviews_number</th>\n",
       "    </tr>\n",
       "    <tr>\n",
       "      <th>host_id</th>\n",
       "      <th></th>\n",
       "    </tr>\n",
       "  </thead>\n",
       "  <tbody>\n",
       "    <tr>\n",
       "      <th>14163414.0</th>\n",
       "      <td>1543</td>\n",
       "    </tr>\n",
       "    <tr>\n",
       "      <th>3585451.0</th>\n",
       "      <td>1250</td>\n",
       "    </tr>\n",
       "    <tr>\n",
       "      <th>4214727.0</th>\n",
       "      <td>1235</td>\n",
       "    </tr>\n",
       "    <tr>\n",
       "      <th>577652.0</th>\n",
       "      <td>1210</td>\n",
       "    </tr>\n",
       "    <tr>\n",
       "      <th>2442805.0</th>\n",
       "      <td>1058</td>\n",
       "    </tr>\n",
       "    <tr>\n",
       "      <th>16573646.0</th>\n",
       "      <td>1048</td>\n",
       "    </tr>\n",
       "    <tr>\n",
       "      <th>1351697.0</th>\n",
       "      <td>891</td>\n",
       "    </tr>\n",
       "    <tr>\n",
       "      <th>219295979.0</th>\n",
       "      <td>869</td>\n",
       "    </tr>\n",
       "    <tr>\n",
       "      <th>1218900.0</th>\n",
       "      <td>867</td>\n",
       "    </tr>\n",
       "    <tr>\n",
       "      <th>28733688.0</th>\n",
       "      <td>806</td>\n",
       "    </tr>\n",
       "  </tbody>\n",
       "</table>\n",
       "</div>"
      ],
      "text/plain": [
       "             reviews_number\n",
       "host_id                    \n",
       "14163414.0             1543\n",
       "3585451.0              1250\n",
       "4214727.0              1235\n",
       "577652.0               1210\n",
       "2442805.0              1058\n",
       "16573646.0             1048\n",
       "1351697.0               891\n",
       "219295979.0             869\n",
       "1218900.0               867\n",
       "28733688.0              806"
      ]
     },
     "execution_count": 29,
     "metadata": {},
     "output_type": "execute_result"
    }
   ],
   "source": [
    "## Top 10 hosts from Malta based on number of reviews\n",
    "top_10_hosts"
   ]
  },
  {
   "cell_type": "code",
   "execution_count": null,
   "metadata": {},
   "outputs": [],
   "source": [
    "## De aflat:\n",
    "## 1. Cate proprietati detin\n",
    "## 2. Top cuvinte\n",
    "## 3. Tip proprietate\n",
    "## 4. Preturi\n",
    "## 5. Interval de timp\n",
    "## 6. review-uri per tip proprietate? cate ca si numar.\n",
    "## 7. reviewuri per scor si proprietate? \n",
    "## 8. pers cu highest number of reviews & scor?\n",
    "## 9. comp. cuvinte intre cei care au scor >4 si care au <=4.\n",
    "## 10. sintagme populare\n",
    "## 11. topic modelling https://www.analyticsvidhya.com/blog/2018/10/mining-online-reviews-topic-modeling-lda/\n",
    "## 12. sentiment analysis https://livebook.manning.com/book/real-world-machine-learning/chapter-8/25"
   ]
  },
  {
   "cell_type": "code",
   "execution_count": 40,
   "metadata": {},
   "outputs": [
    {
     "name": "stdout",
     "output_type": "stream",
     "text": [
      "<class 'pandas.core.frame.DataFrame'>\n",
      "Float64Index: 10 entries, 14163414.0 to 28733688.0\n",
      "Data columns (total 1 columns):\n",
      " #   Column          Non-Null Count  Dtype\n",
      "---  ------          --------------  -----\n",
      " 0   reviews_number  10 non-null     int64\n",
      "dtypes: int64(1)\n",
      "memory usage: 160.0 bytes\n"
     ]
    }
   ],
   "source": [
    "top_10_hosts.info()"
   ]
  },
  {
   "cell_type": "code",
   "execution_count": 44,
   "metadata": {},
   "outputs": [],
   "source": [
    "#top_10_hosts = top_10_hosts.reset_index()\n",
    "top_10_hosts.host_id = top_10_hosts.host_id.astype('float64') ##convert to float64 to match."
   ]
  },
  {
   "cell_type": "code",
   "execution_count": 46,
   "metadata": {},
   "outputs": [
    {
     "name": "stdout",
     "output_type": "stream",
     "text": [
      "<class 'pandas.core.frame.DataFrame'>\n",
      "RangeIndex: 10 entries, 0 to 9\n",
      "Data columns (total 2 columns):\n",
      " #   Column          Non-Null Count  Dtype  \n",
      "---  ------          --------------  -----  \n",
      " 0   host_id         10 non-null     float64\n",
      " 1   reviews_number  10 non-null     int64  \n",
      "dtypes: float64(1), int64(1)\n",
      "memory usage: 288.0 bytes\n"
     ]
    }
   ],
   "source": [
    "top_10_hosts.info()"
   ]
  },
  {
   "cell_type": "code",
   "execution_count": 33,
   "metadata": {},
   "outputs": [],
   "source": [
    "# necessary_columns = ['id', 'name', 'host_id', 'host_name',  'listing_id', 'host_since', 'host_is_superhost', 'host_response_rate', 'hostal_total_listings_count',\n",
    "#                         'neighbourhood', 'property_type', 'accommodate', 'price', 'minimum_nights', 'first_review', 'last_review',\n",
    "#                         'review_scores_rating', 'review_scores_value', 'calculated_host_listings_count', 'region_name']   \n",
    "#   \n",
    "necessary_columns = ['id', 'name', 'host_id',  'host_since', 'host_is_superhost', 'host_response_rate', \n",
    "                         'property_type', 'accommodates', 'minimum_nights', 'first_review', 'last_review',\n",
    "                        'review_scores_rating', 'review_scores_value', 'calculated_host_listings_count', 'region_name']    \n",
    "\n",
    "reviews2 = pd.merge(reviews, listings[necessary_columns], on = 'id', how = 'left')"
   ]
  },
  {
   "cell_type": "code",
   "execution_count": 61,
   "metadata": {},
   "outputs": [],
   "source": [
    "x = np.array(top_10_hosts.host_id)\n",
    "listings2 = listings.loc[listings['host_id'].isin(x)]\n",
    "listings2 = listings2.loc[:, listings2.columns.isin(necessary_columns)]"
   ]
  },
  {
   "cell_type": "code",
   "execution_count": 56,
   "metadata": {},
   "outputs": [
    {
     "data": {
      "text/plain": [
       "array([1.41634140e+07, 3.58545100e+06, 4.21472700e+06, 5.77652000e+05,\n",
       "       2.44280500e+06, 1.65736460e+07, 1.35169700e+06, 2.19295979e+08,\n",
       "       1.21890000e+06, 2.87336880e+07])"
      ]
     },
     "execution_count": 56,
     "metadata": {},
     "output_type": "execute_result"
    }
   ],
   "source": []
  }
 ],
 "metadata": {
  "interpreter": {
   "hash": "b655fb35f72a9c83beb7c07155e9e080fc56df27abbab5aa83a403845b4c6b8d"
  },
  "kernelspec": {
   "display_name": "Python 3.9.4 64-bit ('env': venv)",
   "language": "python",
   "name": "python3"
  },
  "language_info": {
   "codemirror_mode": {
    "name": "ipython",
    "version": 3
   },
   "file_extension": ".py",
   "mimetype": "text/x-python",
   "name": "python",
   "nbconvert_exporter": "python",
   "pygments_lexer": "ipython3",
   "version": "3.9.4"
  },
  "orig_nbformat": 4
 },
 "nbformat": 4,
 "nbformat_minor": 2
}
